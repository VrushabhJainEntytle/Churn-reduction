{
 "cells": [
  {
   "cell_type": "markdown",
   "metadata": {},
   "source": [
    "# Churn Reduction"
   ]
  },
  {
   "cell_type": "code",
   "execution_count": 1,
   "metadata": {
    "scrolled": true
   },
   "outputs": [
    {
     "name": "stderr",
     "output_type": "stream",
     "text": [
      "Using TensorFlow backend.\n"
     ]
    }
   ],
   "source": [
    "#Load libraries\n",
    "import os\n",
    "import pandas as pd\n",
    "import numpy as np\n",
    "from fancyimpute import KNN   \n",
    "import matplotlib.pyplot as plt\n",
    "from scipy.stats import chi2_contingency\n",
    "import seaborn as sns\n",
    "from random import randrange, uniform\n"
   ]
  },
  {
   "cell_type": "code",
   "execution_count": 2,
   "metadata": {},
   "outputs": [],
   "source": [
    "#Set working directory\n",
    "os.chdir(\"C:/Users/vrush_000/Desktop/Data science/Project/Main Project/Customer_churn\")"
   ]
  },
  {
   "cell_type": "code",
   "execution_count": 3,
   "metadata": {},
   "outputs": [
    {
     "data": {
      "text/plain": [
       "'C:\\\\Users\\\\vrush_000\\\\Desktop\\\\Data science\\\\Project\\\\Main Project\\\\Customer_churn'"
      ]
     },
     "execution_count": 3,
     "metadata": {},
     "output_type": "execute_result"
    }
   ],
   "source": [
    "#check working directory\n",
    "os.getcwd()"
   ]
  },
  {
   "cell_type": "code",
   "execution_count": 4,
   "metadata": {},
   "outputs": [],
   "source": [
    "#Load data\n",
    "churn_train = pd.read_csv(\"Train_data.csv\")\n",
    "churn_test = pd.read_csv(\"Test_data.csv\")"
   ]
  },
  {
   "cell_type": "code",
   "execution_count": 5,
   "metadata": {},
   "outputs": [],
   "source": [
    "#Create a new variable in train and test data to find and reseparate them after merging \n",
    "churn_train[\"istrainset\"] = True\n",
    "churn_test[\"istrainset\"] = False\n"
   ]
  },
  {
   "cell_type": "code",
   "execution_count": 6,
   "metadata": {},
   "outputs": [
    {
     "name": "stderr",
     "output_type": "stream",
     "text": [
      "C:\\Users\\vrush_000\\Anaconda3\\lib\\site-packages\\ipykernel_launcher.py:2: UserWarning: Pandas doesn't allow columns to be created via a new attribute name - see https://pandas.pydata.org/pandas-docs/stable/indexing.html#attribute-access\n",
      "  \n"
     ]
    }
   ],
   "source": [
    "#create a new combined dataset\n",
    "churn_test.colunmns = churn_train.columns\n",
    "churn_full = pd.concat([churn_train, churn_test])\n",
    "\n"
   ]
  },
  {
   "cell_type": "code",
   "execution_count": 7,
   "metadata": {},
   "outputs": [
    {
     "data": {
      "text/html": [
       "<div>\n",
       "<style scoped>\n",
       "    .dataframe tbody tr th:only-of-type {\n",
       "        vertical-align: middle;\n",
       "    }\n",
       "\n",
       "    .dataframe tbody tr th {\n",
       "        vertical-align: top;\n",
       "    }\n",
       "\n",
       "    .dataframe thead th {\n",
       "        text-align: right;\n",
       "    }\n",
       "</style>\n",
       "<table border=\"1\" class=\"dataframe\">\n",
       "  <thead>\n",
       "    <tr style=\"text-align: right;\">\n",
       "      <th></th>\n",
       "      <th>state</th>\n",
       "      <th>account length</th>\n",
       "      <th>area code</th>\n",
       "      <th>phone number</th>\n",
       "      <th>international plan</th>\n",
       "      <th>voice mail plan</th>\n",
       "      <th>number vmail messages</th>\n",
       "      <th>total day minutes</th>\n",
       "      <th>total day calls</th>\n",
       "      <th>total day charge</th>\n",
       "      <th>...</th>\n",
       "      <th>total eve charge</th>\n",
       "      <th>total night minutes</th>\n",
       "      <th>total night calls</th>\n",
       "      <th>total night charge</th>\n",
       "      <th>total intl minutes</th>\n",
       "      <th>total intl calls</th>\n",
       "      <th>total intl charge</th>\n",
       "      <th>number customer service calls</th>\n",
       "      <th>Churn</th>\n",
       "      <th>istrainset</th>\n",
       "    </tr>\n",
       "  </thead>\n",
       "  <tbody>\n",
       "    <tr>\n",
       "      <th>0</th>\n",
       "      <td>KS</td>\n",
       "      <td>128</td>\n",
       "      <td>415</td>\n",
       "      <td>382-4657</td>\n",
       "      <td>no</td>\n",
       "      <td>yes</td>\n",
       "      <td>25</td>\n",
       "      <td>265.1</td>\n",
       "      <td>110</td>\n",
       "      <td>45.07</td>\n",
       "      <td>...</td>\n",
       "      <td>16.78</td>\n",
       "      <td>244.7</td>\n",
       "      <td>91</td>\n",
       "      <td>11.01</td>\n",
       "      <td>10.0</td>\n",
       "      <td>3</td>\n",
       "      <td>2.70</td>\n",
       "      <td>1</td>\n",
       "      <td>False.</td>\n",
       "      <td>True</td>\n",
       "    </tr>\n",
       "    <tr>\n",
       "      <th>1</th>\n",
       "      <td>OH</td>\n",
       "      <td>107</td>\n",
       "      <td>415</td>\n",
       "      <td>371-7191</td>\n",
       "      <td>no</td>\n",
       "      <td>yes</td>\n",
       "      <td>26</td>\n",
       "      <td>161.6</td>\n",
       "      <td>123</td>\n",
       "      <td>27.47</td>\n",
       "      <td>...</td>\n",
       "      <td>16.62</td>\n",
       "      <td>254.4</td>\n",
       "      <td>103</td>\n",
       "      <td>11.45</td>\n",
       "      <td>13.7</td>\n",
       "      <td>3</td>\n",
       "      <td>3.70</td>\n",
       "      <td>1</td>\n",
       "      <td>False.</td>\n",
       "      <td>True</td>\n",
       "    </tr>\n",
       "    <tr>\n",
       "      <th>2</th>\n",
       "      <td>NJ</td>\n",
       "      <td>137</td>\n",
       "      <td>415</td>\n",
       "      <td>358-1921</td>\n",
       "      <td>no</td>\n",
       "      <td>no</td>\n",
       "      <td>0</td>\n",
       "      <td>243.4</td>\n",
       "      <td>114</td>\n",
       "      <td>41.38</td>\n",
       "      <td>...</td>\n",
       "      <td>10.30</td>\n",
       "      <td>162.6</td>\n",
       "      <td>104</td>\n",
       "      <td>7.32</td>\n",
       "      <td>12.2</td>\n",
       "      <td>5</td>\n",
       "      <td>3.29</td>\n",
       "      <td>0</td>\n",
       "      <td>False.</td>\n",
       "      <td>True</td>\n",
       "    </tr>\n",
       "    <tr>\n",
       "      <th>3</th>\n",
       "      <td>OH</td>\n",
       "      <td>84</td>\n",
       "      <td>408</td>\n",
       "      <td>375-9999</td>\n",
       "      <td>yes</td>\n",
       "      <td>no</td>\n",
       "      <td>0</td>\n",
       "      <td>299.4</td>\n",
       "      <td>71</td>\n",
       "      <td>50.90</td>\n",
       "      <td>...</td>\n",
       "      <td>5.26</td>\n",
       "      <td>196.9</td>\n",
       "      <td>89</td>\n",
       "      <td>8.86</td>\n",
       "      <td>6.6</td>\n",
       "      <td>7</td>\n",
       "      <td>1.78</td>\n",
       "      <td>2</td>\n",
       "      <td>False.</td>\n",
       "      <td>True</td>\n",
       "    </tr>\n",
       "    <tr>\n",
       "      <th>4</th>\n",
       "      <td>OK</td>\n",
       "      <td>75</td>\n",
       "      <td>415</td>\n",
       "      <td>330-6626</td>\n",
       "      <td>yes</td>\n",
       "      <td>no</td>\n",
       "      <td>0</td>\n",
       "      <td>166.7</td>\n",
       "      <td>113</td>\n",
       "      <td>28.34</td>\n",
       "      <td>...</td>\n",
       "      <td>12.61</td>\n",
       "      <td>186.9</td>\n",
       "      <td>121</td>\n",
       "      <td>8.41</td>\n",
       "      <td>10.1</td>\n",
       "      <td>3</td>\n",
       "      <td>2.73</td>\n",
       "      <td>3</td>\n",
       "      <td>False.</td>\n",
       "      <td>True</td>\n",
       "    </tr>\n",
       "  </tbody>\n",
       "</table>\n",
       "<p>5 rows × 22 columns</p>\n",
       "</div>"
      ],
      "text/plain": [
       "  state  account length  area code phone number international plan  \\\n",
       "0    KS             128        415     382-4657                 no   \n",
       "1    OH             107        415     371-7191                 no   \n",
       "2    NJ             137        415     358-1921                 no   \n",
       "3    OH              84        408     375-9999                yes   \n",
       "4    OK              75        415     330-6626                yes   \n",
       "\n",
       "  voice mail plan  number vmail messages  total day minutes  total day calls  \\\n",
       "0             yes                     25              265.1              110   \n",
       "1             yes                     26              161.6              123   \n",
       "2              no                      0              243.4              114   \n",
       "3              no                      0              299.4               71   \n",
       "4              no                      0              166.7              113   \n",
       "\n",
       "   total day charge     ...      total eve charge  total night minutes  \\\n",
       "0             45.07     ...                 16.78                244.7   \n",
       "1             27.47     ...                 16.62                254.4   \n",
       "2             41.38     ...                 10.30                162.6   \n",
       "3             50.90     ...                  5.26                196.9   \n",
       "4             28.34     ...                 12.61                186.9   \n",
       "\n",
       "   total night calls  total night charge  total intl minutes  \\\n",
       "0                 91               11.01                10.0   \n",
       "1                103               11.45                13.7   \n",
       "2                104                7.32                12.2   \n",
       "3                 89                8.86                 6.6   \n",
       "4                121                8.41                10.1   \n",
       "\n",
       "   total intl calls  total intl charge  number customer service calls  \\\n",
       "0                 3               2.70                              1   \n",
       "1                 3               3.70                              1   \n",
       "2                 5               3.29                              0   \n",
       "3                 7               1.78                              2   \n",
       "4                 3               2.73                              3   \n",
       "\n",
       "     Churn  istrainset  \n",
       "0   False.        True  \n",
       "1   False.        True  \n",
       "2   False.        True  \n",
       "3   False.        True  \n",
       "4   False.        True  \n",
       "\n",
       "[5 rows x 22 columns]"
      ]
     },
     "execution_count": 7,
     "metadata": {},
     "output_type": "execute_result"
    }
   ],
   "source": [
    "churn_full.head()"
   ]
  },
  {
   "cell_type": "code",
   "execution_count": 8,
   "metadata": {},
   "outputs": [
    {
     "data": {
      "text/plain": [
       "(5000, 22)"
      ]
     },
     "execution_count": 8,
     "metadata": {},
     "output_type": "execute_result"
    }
   ],
   "source": [
    "##Expore the dataset\n",
    "#dimension of dataset\n",
    "churn_full.shape"
   ]
  },
  {
   "cell_type": "code",
   "execution_count": 9,
   "metadata": {},
   "outputs": [],
   "source": [
    "#Replace spaces in column names with nothing\n",
    "churn_full.columns = churn_full.columns.str.replace(' ', '')"
   ]
  },
  {
   "cell_type": "code",
   "execution_count": 10,
   "metadata": {},
   "outputs": [
    {
     "data": {
      "text/plain": [
       "state                          object\n",
       "accountlength                   int64\n",
       "areacode                        int64\n",
       "phonenumber                    object\n",
       "internationalplan              object\n",
       "voicemailplan                  object\n",
       "numbervmailmessages             int64\n",
       "totaldayminutes               float64\n",
       "totaldaycalls                   int64\n",
       "totaldaycharge                float64\n",
       "totaleveminutes               float64\n",
       "totalevecalls                   int64\n",
       "totalevecharge                float64\n",
       "totalnightminutes             float64\n",
       "totalnightcalls                 int64\n",
       "totalnightcharge              float64\n",
       "totalintlminutes              float64\n",
       "totalintlcalls                  int64\n",
       "totalintlcharge               float64\n",
       "numbercustomerservicecalls      int64\n",
       "Churn                          object\n",
       "istrainset                       bool\n",
       "dtype: object"
      ]
     },
     "execution_count": 10,
     "metadata": {},
     "output_type": "execute_result"
    }
   ],
   "source": [
    "#structure of data\n",
    "churn_full.dtypes"
   ]
  },
  {
   "cell_type": "code",
   "execution_count": 11,
   "metadata": {},
   "outputs": [
    {
     "data": {
      "text/plain": [
       "415    2495\n",
       "408    1259\n",
       "510    1246\n",
       "Name: areacode, dtype: int64"
      ]
     },
     "execution_count": 11,
     "metadata": {},
     "output_type": "execute_result"
    }
   ],
   "source": [
    "#Distribution of unique values in a categorical variable\n",
    "churn_full[\"areacode\"].value_counts()\n"
   ]
  },
  {
   "cell_type": "code",
   "execution_count": 12,
   "metadata": {},
   "outputs": [
    {
     "data": {
      "text/plain": [
       "state                         0\n",
       "accountlength                 0\n",
       "areacode                      0\n",
       "phonenumber                   0\n",
       "internationalplan             0\n",
       "voicemailplan                 0\n",
       "numbervmailmessages           0\n",
       "totaldayminutes               0\n",
       "totaldaycalls                 0\n",
       "totaldaycharge                0\n",
       "totaleveminutes               0\n",
       "totalevecalls                 0\n",
       "totalevecharge                0\n",
       "totalnightminutes             0\n",
       "totalnightcalls               0\n",
       "totalnightcharge              0\n",
       "totalintlminutes              0\n",
       "totalintlcalls                0\n",
       "totalintlcharge               0\n",
       "numbercustomerservicecalls    0\n",
       "Churn                         0\n",
       "istrainset                    0\n",
       "dtype: int64"
      ]
     },
     "execution_count": 12,
     "metadata": {},
     "output_type": "execute_result"
    }
   ],
   "source": [
    "#checking for missing values\n",
    "churn_full.isnull().sum()\n",
    "#As our data does not contain any missing value, no need to do missing value analysis\n"
   ]
  },
  {
   "cell_type": "code",
   "execution_count": 13,
   "metadata": {},
   "outputs": [],
   "source": [
    "## Univariate Analysis and Variable Consolidation\n",
    "#conversion of datatype of variable area.code to factor\n",
    "churn_full[\"areacode\"]= churn_full[\"areacode\"].astype('object')\n",
    "\n"
   ]
  },
  {
   "cell_type": "code",
   "execution_count": 14,
   "metadata": {},
   "outputs": [],
   "source": [
    "#as feature \"phone.number\" is unique for each row and it does not have impact on our target variable \"Churn\", \n",
    "#better to drop this variable\n",
    "del churn_full[\"phonenumber\"]"
   ]
  },
  {
   "cell_type": "code",
   "execution_count": 15,
   "metadata": {},
   "outputs": [],
   "source": [
    "##Exploratory data Analysis\n",
    "#separate combine data\n",
    "churn_train = churn_full.loc[churn_full['istrainset'] == True]\n",
    "churn_test = churn_full.loc[churn_full[\"istrainset\"] == False]"
   ]
  },
  {
   "cell_type": "markdown",
   "metadata": {},
   "source": [
    "# Data Visualization"
   ]
  },
  {
   "cell_type": "code",
   "execution_count": 16,
   "metadata": {},
   "outputs": [
    {
     "name": "stderr",
     "output_type": "stream",
     "text": [
      "C:\\Users\\vrush_000\\Anaconda3\\lib\\site-packages\\pandas\\core\\indexing.py:189: SettingWithCopyWarning: \n",
      "A value is trying to be set on a copy of a slice from a DataFrame\n",
      "\n",
      "See the caveats in the documentation: http://pandas.pydata.org/pandas-docs/stable/indexing.html#indexing-view-versus-copy\n",
      "  self._setitem_with_indexer(indexer, value)\n"
     ]
    }
   ],
   "source": [
    "#churn and non churn customer percentage\n",
    "churn = churn_train[\"Churn\"].value_counts().to_frame().reset_index().rename(columns={\"index\":\"Churn\",\"Churn\":\"count\"})\n",
    "churn[\"percentage\"]=0\n",
    "for i in range(len(churn)):\n",
    "    churn[\"percentage\"].iloc[i] = (churn[\"count\"].iloc[i]/len(churn_train.index)*100)"
   ]
  },
  {
   "cell_type": "code",
   "execution_count": 17,
   "metadata": {},
   "outputs": [
    {
     "data": {
      "image/png": "[encoded data removed]",
      "text/plain": [
       "<Figure size 432x288 with 1 Axes>"
      ]
     },
     "metadata": {},
     "output_type": "display_data"
    }
   ],
   "source": [
    "#visualising churn percentage\n",
    "plt.bar(churn[\"Churn\"],churn[\"percentage\"],color = \"darkslateBlue\")\n",
    "plt.xlabel(\"Churn\")\n",
    "plt.ylabel(\"percentage\")\n",
    "plt.title(\"Churn Analysis\")\n",
    "plt.show()"
   ]
  },
  {
   "cell_type": "code",
   "execution_count": 18,
   "metadata": {},
   "outputs": [
    {
     "data": {
      "text/plain": [
       "<matplotlib.axes._subplots.AxesSubplot at 0xd0b89faf28>"
      ]
     },
     "execution_count": 18,
     "metadata": {},
     "output_type": "execute_result"
    },
    {
     "data": {
      "image/png": "[encoded data removed]",
      "text/plain": [
       "<Figure size 1152x504 with 1 Axes>"
      ]
     },
     "metadata": {},
     "output_type": "display_data"
    }
   ],
   "source": [
    "#visualizing distribution of \"state\" variable\n",
    "churn_train['state'].value_counts().plot(kind='bar',figsize = (16,7))"
   ]
  },
  {
   "cell_type": "code",
   "execution_count": 19,
   "metadata": {},
   "outputs": [
    {
     "data": {
      "text/plain": [
       "<matplotlib.axes._subplots.AxesSubplot at 0xd0b8b65320>"
      ]
     },
     "execution_count": 19,
     "metadata": {},
     "output_type": "execute_result"
    },
    {
     "data": {
      "image/png": "[encoded data removed]",
      "text/plain": [
       "<Figure size 1080x648 with 4 Axes>"
      ]
     },
     "metadata": {},
     "output_type": "display_data"
    }
   ],
   "source": [
    "#visuaization of relation between each categorical variable with customers' churn behaviour\n",
    "fig, axes = plt.subplots(nrows=2, ncols=2,figsize = (15,9))\n",
    "churn_train.groupby(['internationalplan','Churn']).size().unstack().plot(kind = 'bar',ax = axes[0,0] )\n",
    "\n",
    "churn_train.groupby(['areacode','Churn']).size().unstack().plot(kind = 'bar',ax = axes[0,1])\n",
    "\n",
    "churn_train.groupby(['voicemailplan','Churn']).size().unstack().plot(kind = 'bar',ax = axes[1,0])\n"
   ]
  },
  {
   "cell_type": "code",
   "execution_count": 20,
   "metadata": {},
   "outputs": [
    {
     "data": {
      "text/plain": [
       "(array([ 697., 1181.,  759.,  429.,  166.,   66.,   22.,    9.,    2.,\n",
       "           2.]),\n",
       " array([0. , 0.9, 1.8, 2.7, 3.6, 4.5, 5.4, 6.3, 7.2, 8.1, 9. ]),\n",
       " <a list of 10 Patch objects>)"
      ]
     },
     "execution_count": 20,
     "metadata": {},
     "output_type": "execute_result"
    },
    {
     "data": {
      "image/png": "[encoded data removed]",
      "text/plain": [
       "<Figure size 432x288 with 3 Axes>"
      ]
     },
     "metadata": {},
     "output_type": "display_data"
    }
   ],
   "source": [
    "#Distribution of continous variable\n",
    "plt.subplot(211)\n",
    "plt.hist(churn_train[\"accountlength\"],rwidth = 0.95)\n",
    "plt.xlabel(\"accountlength\")\n",
    "plt.subplot(223)\n",
    "plt.hist(churn_train[\"numbervmailmessages\"],rwidth = 0.95)\n",
    "plt.subplot(224)\n",
    "plt.hist(churn_train[\"numbercustomerservicecalls\"],rwidth = 0.95)\n",
    "\n"
   ]
  },
  {
   "cell_type": "code",
   "execution_count": 21,
   "metadata": {},
   "outputs": [
    {
     "data": {
      "text/plain": [
       "(array([ 20.,  32., 158., 449., 820., 968., 606., 219.,  52.,   9.]),\n",
       " array([ 0.,  2.,  4.,  6.,  8., 10., 12., 14., 16., 18., 20.]),\n",
       " <a list of 10 Patch objects>)"
      ]
     },
     "execution_count": 21,
     "metadata": {},
     "output_type": "execute_result"
    },
    {
     "data": {
      "image/png": "[encoded data removed]",
      "text/plain": [
       "<Figure size 1080x648 with 4 Axes>"
      ]
     },
     "metadata": {},
     "output_type": "display_data"
    }
   ],
   "source": [
    "fig,axs = plt.subplots(2,2,figsize = (15,9))\n",
    "\n",
    "axs[0,0].hist(churn_train[\"totaldayminutes\"],rwidth = 0.95)\n",
    "axs[0,0].set_title('TotalDayMinutes')\n",
    "\n",
    "axs[0,1].hist(churn_train[\"totaleveminutes\"],rwidth = 0.95)\n",
    "\n",
    "axs[1,0].hist(churn_train[\"totalnightminutes\"],rwidth = 0.95)\n",
    "\n",
    "axs[1,1].hist(churn_train[\"totalintlminutes\"],rwidth = 0.95)"
   ]
  },
  {
   "cell_type": "code",
   "execution_count": 22,
   "metadata": {},
   "outputs": [
    {
     "data": {
      "text/plain": [
       "(array([ 20.,  32., 158., 449., 820., 968., 627., 198.,  52.,   9.]),\n",
       " array([0.  , 0.54, 1.08, 1.62, 2.16, 2.7 , 3.24, 3.78, 4.32, 4.86, 5.4 ]),\n",
       " <a list of 10 Patch objects>)"
      ]
     },
     "execution_count": 22,
     "metadata": {},
     "output_type": "execute_result"
    },
    {
     "data": {
      "image/png": "[encoded data removed]",
      "text/plain": [
       "<Figure size 1080x648 with 4 Axes>"
      ]
     },
     "metadata": {},
     "output_type": "display_data"
    }
   ],
   "source": [
    "#Distribution of continouus variable\n",
    "fig,axs = plt.subplots(2,2,figsize = (15,9))\n",
    "\n",
    "axs[0,0].hist(churn_train[\"totaldaycharge\"],rwidth = 0.95)\n",
    "\n",
    "axs[0,1].hist(churn_train[\"totalevecharge\"],rwidth = 0.95)\n",
    "\n",
    "axs[1,0].hist(churn_train[\"totalnightcharge\"],rwidth = 0.95)\n",
    "\n",
    "axs[1,1].hist(churn_train[\"totalintlcharge\"],rwidth = 0.95)"
   ]
  },
  {
   "cell_type": "code",
   "execution_count": 23,
   "metadata": {},
   "outputs": [
    {
     "data": {
      "text/plain": [
       "(array([ 178., 1157., 1091.,  554.,  225.,   78.,   29.,   13.,    3.,\n",
       "           5.]),\n",
       " array([ 0.,  2.,  4.,  6.,  8., 10., 12., 14., 16., 18., 20.]),\n",
       " <a list of 10 Patch objects>)"
      ]
     },
     "execution_count": 23,
     "metadata": {},
     "output_type": "execute_result"
    },
    {
     "data": {
      "image/png": "[encoded data removed]",
      "text/plain": [
       "<Figure size 1080x648 with 4 Axes>"
      ]
     },
     "metadata": {},
     "output_type": "display_data"
    }
   ],
   "source": [
    "fig,axs = plt.subplots(2,2,figsize = (15,9))\n",
    "\n",
    "axs[0,0].hist(churn_train[\"totaldaycalls\"],rwidth = 0.95)\n",
    "\n",
    "axs[0,1].hist(churn_train[\"totalevecalls\"],rwidth = 0.95)\n",
    "\n",
    "axs[1,0].hist(churn_train[\"totalnightcalls\"],rwidth = 0.95)\n",
    "\n",
    "axs[1,1].hist(churn_train[\"totalintlcalls\"],rwidth = 0.95)"
   ]
  },
  {
   "cell_type": "code",
   "execution_count": 24,
   "metadata": {},
   "outputs": [],
   "source": [
    "#Assigning levels to the categories\n",
    "lis = []\n",
    "for i in range(0, churn_full.shape[1]):\n",
    "    #print(i)\n",
    "    if(churn_full.iloc[:,i].dtypes == 'object'):\n",
    "        churn_full.iloc[:,i] = pd.Categorical(churn_full.iloc[:,i])\n",
    "        #print(churn_full[[i]])\n",
    "        churn_full.iloc[:,i] = churn_full.iloc[:,i].cat.codes \n",
    "        churn_full.iloc[:,i] = churn_full.iloc[:,i].astype('object')\n",
    "        \n",
    "        lis.append(churn_full.columns[i])\n",
    "        "
   ]
  },
  {
   "cell_type": "code",
   "execution_count": 25,
   "metadata": {},
   "outputs": [
    {
     "data": {
      "text/html": [
       "<div>\n",
       "<style scoped>\n",
       "    .dataframe tbody tr th:only-of-type {\n",
       "        vertical-align: middle;\n",
       "    }\n",
       "\n",
       "    .dataframe tbody tr th {\n",
       "        vertical-align: top;\n",
       "    }\n",
       "\n",
       "    .dataframe thead th {\n",
       "        text-align: right;\n",
       "    }\n",
       "</style>\n",
       "<table border=\"1\" class=\"dataframe\">\n",
       "  <thead>\n",
       "    <tr style=\"text-align: right;\">\n",
       "      <th></th>\n",
       "      <th>state</th>\n",
       "      <th>accountlength</th>\n",
       "      <th>areacode</th>\n",
       "      <th>internationalplan</th>\n",
       "      <th>voicemailplan</th>\n",
       "      <th>numbervmailmessages</th>\n",
       "      <th>totaldayminutes</th>\n",
       "      <th>totaldaycalls</th>\n",
       "      <th>totaldaycharge</th>\n",
       "      <th>totaleveminutes</th>\n",
       "      <th>...</th>\n",
       "      <th>totalevecharge</th>\n",
       "      <th>totalnightminutes</th>\n",
       "      <th>totalnightcalls</th>\n",
       "      <th>totalnightcharge</th>\n",
       "      <th>totalintlminutes</th>\n",
       "      <th>totalintlcalls</th>\n",
       "      <th>totalintlcharge</th>\n",
       "      <th>numbercustomerservicecalls</th>\n",
       "      <th>Churn</th>\n",
       "      <th>istrainset</th>\n",
       "    </tr>\n",
       "  </thead>\n",
       "  <tbody>\n",
       "    <tr>\n",
       "      <th>0</th>\n",
       "      <td>16</td>\n",
       "      <td>128</td>\n",
       "      <td>1</td>\n",
       "      <td>0</td>\n",
       "      <td>1</td>\n",
       "      <td>25</td>\n",
       "      <td>265.1</td>\n",
       "      <td>110</td>\n",
       "      <td>45.07</td>\n",
       "      <td>197.4</td>\n",
       "      <td>...</td>\n",
       "      <td>16.78</td>\n",
       "      <td>244.7</td>\n",
       "      <td>91</td>\n",
       "      <td>11.01</td>\n",
       "      <td>10.0</td>\n",
       "      <td>3</td>\n",
       "      <td>2.70</td>\n",
       "      <td>1</td>\n",
       "      <td>0</td>\n",
       "      <td>True</td>\n",
       "    </tr>\n",
       "    <tr>\n",
       "      <th>1</th>\n",
       "      <td>35</td>\n",
       "      <td>107</td>\n",
       "      <td>1</td>\n",
       "      <td>0</td>\n",
       "      <td>1</td>\n",
       "      <td>26</td>\n",
       "      <td>161.6</td>\n",
       "      <td>123</td>\n",
       "      <td>27.47</td>\n",
       "      <td>195.5</td>\n",
       "      <td>...</td>\n",
       "      <td>16.62</td>\n",
       "      <td>254.4</td>\n",
       "      <td>103</td>\n",
       "      <td>11.45</td>\n",
       "      <td>13.7</td>\n",
       "      <td>3</td>\n",
       "      <td>3.70</td>\n",
       "      <td>1</td>\n",
       "      <td>0</td>\n",
       "      <td>True</td>\n",
       "    </tr>\n",
       "    <tr>\n",
       "      <th>2</th>\n",
       "      <td>31</td>\n",
       "      <td>137</td>\n",
       "      <td>1</td>\n",
       "      <td>0</td>\n",
       "      <td>0</td>\n",
       "      <td>0</td>\n",
       "      <td>243.4</td>\n",
       "      <td>114</td>\n",
       "      <td>41.38</td>\n",
       "      <td>121.2</td>\n",
       "      <td>...</td>\n",
       "      <td>10.30</td>\n",
       "      <td>162.6</td>\n",
       "      <td>104</td>\n",
       "      <td>7.32</td>\n",
       "      <td>12.2</td>\n",
       "      <td>5</td>\n",
       "      <td>3.29</td>\n",
       "      <td>0</td>\n",
       "      <td>0</td>\n",
       "      <td>True</td>\n",
       "    </tr>\n",
       "    <tr>\n",
       "      <th>3</th>\n",
       "      <td>35</td>\n",
       "      <td>84</td>\n",
       "      <td>0</td>\n",
       "      <td>1</td>\n",
       "      <td>0</td>\n",
       "      <td>0</td>\n",
       "      <td>299.4</td>\n",
       "      <td>71</td>\n",
       "      <td>50.90</td>\n",
       "      <td>61.9</td>\n",
       "      <td>...</td>\n",
       "      <td>5.26</td>\n",
       "      <td>196.9</td>\n",
       "      <td>89</td>\n",
       "      <td>8.86</td>\n",
       "      <td>6.6</td>\n",
       "      <td>7</td>\n",
       "      <td>1.78</td>\n",
       "      <td>2</td>\n",
       "      <td>0</td>\n",
       "      <td>True</td>\n",
       "    </tr>\n",
       "    <tr>\n",
       "      <th>4</th>\n",
       "      <td>36</td>\n",
       "      <td>75</td>\n",
       "      <td>1</td>\n",
       "      <td>1</td>\n",
       "      <td>0</td>\n",
       "      <td>0</td>\n",
       "      <td>166.7</td>\n",
       "      <td>113</td>\n",
       "      <td>28.34</td>\n",
       "      <td>148.3</td>\n",
       "      <td>...</td>\n",
       "      <td>12.61</td>\n",
       "      <td>186.9</td>\n",
       "      <td>121</td>\n",
       "      <td>8.41</td>\n",
       "      <td>10.1</td>\n",
       "      <td>3</td>\n",
       "      <td>2.73</td>\n",
       "      <td>3</td>\n",
       "      <td>0</td>\n",
       "      <td>True</td>\n",
       "    </tr>\n",
       "  </tbody>\n",
       "</table>\n",
       "<p>5 rows × 21 columns</p>\n",
       "</div>"
      ],
      "text/plain": [
       "  state  accountlength areacode internationalplan voicemailplan  \\\n",
       "0    16            128        1                 0             1   \n",
       "1    35            107        1                 0             1   \n",
       "2    31            137        1                 0             0   \n",
       "3    35             84        0                 1             0   \n",
       "4    36             75        1                 1             0   \n",
       "\n",
       "   numbervmailmessages  totaldayminutes  totaldaycalls  totaldaycharge  \\\n",
       "0                   25            265.1            110           45.07   \n",
       "1                   26            161.6            123           27.47   \n",
       "2                    0            243.4            114           41.38   \n",
       "3                    0            299.4             71           50.90   \n",
       "4                    0            166.7            113           28.34   \n",
       "\n",
       "   totaleveminutes    ...      totalevecharge  totalnightminutes  \\\n",
       "0            197.4    ...               16.78              244.7   \n",
       "1            195.5    ...               16.62              254.4   \n",
       "2            121.2    ...               10.30              162.6   \n",
       "3             61.9    ...                5.26              196.9   \n",
       "4            148.3    ...               12.61              186.9   \n",
       "\n",
       "   totalnightcalls  totalnightcharge  totalintlminutes  totalintlcalls  \\\n",
       "0               91             11.01              10.0               3   \n",
       "1              103             11.45              13.7               3   \n",
       "2              104              7.32              12.2               5   \n",
       "3               89              8.86               6.6               7   \n",
       "4              121              8.41              10.1               3   \n",
       "\n",
       "   totalintlcharge  numbercustomerservicecalls  Churn istrainset  \n",
       "0             2.70                           1      0       True  \n",
       "1             3.70                           1      0       True  \n",
       "2             3.29                           0      0       True  \n",
       "3             1.78                           2      0       True  \n",
       "4             2.73                           3      0       True  \n",
       "\n",
       "[5 rows x 21 columns]"
      ]
     },
     "execution_count": 25,
     "metadata": {},
     "output_type": "execute_result"
    }
   ],
   "source": [
    "churn_full.head()"
   ]
  },
  {
   "cell_type": "code",
   "execution_count": 26,
   "metadata": {},
   "outputs": [],
   "source": [
    "#Convert into proper datatypes\n",
    "for i in lis:\n",
    "    churn_full.loc[:,i] = churn_full.loc[:,i].astype('object')"
   ]
  },
  {
   "cell_type": "code",
   "execution_count": 27,
   "metadata": {},
   "outputs": [],
   "source": [
    "#separate combine data\n",
    "churn_train = churn_full.loc[churn_full['istrainset'] == True]\n",
    "churn_test = churn_full.loc[churn_full[\"istrainset\"] == False]"
   ]
  },
  {
   "cell_type": "markdown",
   "metadata": {
    "collapsed": true
   },
   "source": [
    "## Outlier Analysis"
   ]
  },
  {
   "cell_type": "code",
   "execution_count": 28,
   "metadata": {},
   "outputs": [],
   "source": [
    "#save a copy dataframe with outlier\n",
    "with_outlier = churn_train"
   ]
  },
  {
   "cell_type": "code",
   "execution_count": 29,
   "metadata": {},
   "outputs": [],
   "source": [
    "#Select names of continous variable\n",
    "cnames = list(churn_train.select_dtypes(include = [np.number]))"
   ]
  },
  {
   "cell_type": "code",
   "execution_count": 30,
   "metadata": {},
   "outputs": [
    {
     "data": {
      "text/plain": [
       "['accountlength',\n",
       " 'numbervmailmessages',\n",
       " 'totaldayminutes',\n",
       " 'totaldaycalls',\n",
       " 'totaldaycharge',\n",
       " 'totaleveminutes',\n",
       " 'totalevecalls',\n",
       " 'totalevecharge',\n",
       " 'totalnightminutes',\n",
       " 'totalnightcalls',\n",
       " 'totalnightcharge',\n",
       " 'totalintlminutes',\n",
       " 'totalintlcalls',\n",
       " 'totalintlcharge',\n",
       " 'numbercustomerservicecalls']"
      ]
     },
     "execution_count": 30,
     "metadata": {},
     "output_type": "execute_result"
    }
   ],
   "source": [
    "cnames"
   ]
  },
  {
   "cell_type": "code",
   "execution_count": 31,
   "metadata": {},
   "outputs": [
    {
     "data": {
      "text/plain": [
       "{'whiskers': [<matplotlib.lines.Line2D at 0xd0b96cf470>,\n",
       "  <matplotlib.lines.Line2D at 0xd0b96cf908>],\n",
       " 'caps': [<matplotlib.lines.Line2D at 0xd0b96cfd30>,\n",
       "  <matplotlib.lines.Line2D at 0xd0b96d7198>],\n",
       " 'boxes': [<matplotlib.lines.Line2D at 0xd0b96cf320>],\n",
       " 'medians': [<matplotlib.lines.Line2D at 0xd0b96d75c0>],\n",
       " 'fliers': [<matplotlib.lines.Line2D at 0xd0b96d79e8>],\n",
       " 'means': []}"
      ]
     },
     "execution_count": 31,
     "metadata": {},
     "output_type": "execute_result"
    },
    {
     "data": {
      "image/png": "[encoded data removed]",
      "text/plain": [
       "<Figure size 432x288 with 1 Axes>"
      ]
     },
     "metadata": {},
     "output_type": "display_data"
    }
   ],
   "source": [
    "# #Plot boxplot to visualize Outliers\n",
    "%matplotlib inline\n",
    "plt.boxplot(churn_train['accountlength'])"
   ]
  },
  {
   "cell_type": "code",
   "execution_count": 32,
   "metadata": {},
   "outputs": [
    {
     "name": "stdout",
     "output_type": "stream",
     "text": [
      "accountlength\n",
      "-5.5\n",
      "206.5\n",
      "numbervmailmessages\n",
      "-30.0\n",
      "50.0\n",
      "totaldayminutes\n",
      "34.64999999999996\n",
      "325.45000000000005\n",
      "totaldaycalls\n",
      "46.5\n",
      "154.5\n",
      "totaldaycharge\n",
      "5.890000000000001\n",
      "55.33\n",
      "totaleveminutes\n",
      "63.54999999999997\n",
      "338.35\n",
      "totalevecalls\n",
      "46.5\n",
      "154.5\n",
      "totalevecharge\n",
      "5.4\n",
      "28.759999999999998\n",
      "totalnightminutes\n",
      "64.54999999999998\n",
      "337.75\n",
      "totalnightcalls\n",
      "48.0\n",
      "152.0\n",
      "totalnightcharge\n",
      "2.914999999999999\n",
      "15.195\n",
      "totalintlminutes\n",
      "3.1000000000000005\n",
      "17.5\n",
      "totalintlcalls\n",
      "-1.5\n",
      "10.5\n",
      "totalintlcharge\n",
      "0.8449999999999995\n",
      "4.7250000000000005\n",
      "numbercustomerservicecalls\n",
      "-0.5\n",
      "3.5\n"
     ]
    }
   ],
   "source": [
    "# #Detect and delete outliers from data\n",
    "for i in cnames:\n",
    "    print(i)\n",
    "    q75, q25 = np.percentile(churn_train.loc[:,i], [75 ,25])\n",
    "    iqr = q75 - q25\n",
    "\n",
    "    min = q25 - (iqr*1.5)\n",
    "    max = q75 + (iqr*1.5)\n",
    "    print(min)\n",
    "    print(max)\n",
    "churn_train = churn_train.drop(churn_train[churn_train.loc[:,i] < min].index)\n",
    "churn_train = churn_train.drop(churn_train[churn_train.loc[:,i] > max].index)"
   ]
  },
  {
   "cell_type": "code",
   "execution_count": 33,
   "metadata": {},
   "outputs": [],
   "source": [
    "#save a copy of dataframe without outlier\n",
    "without_outlier = churn_train"
   ]
  },
  {
   "cell_type": "code",
   "execution_count": 34,
   "metadata": {},
   "outputs": [
    {
     "data": {
      "text/html": [
       "<div>\n",
       "<style scoped>\n",
       "    .dataframe tbody tr th:only-of-type {\n",
       "        vertical-align: middle;\n",
       "    }\n",
       "\n",
       "    .dataframe tbody tr th {\n",
       "        vertical-align: top;\n",
       "    }\n",
       "\n",
       "    .dataframe thead th {\n",
       "        text-align: right;\n",
       "    }\n",
       "</style>\n",
       "<table border=\"1\" class=\"dataframe\">\n",
       "  <thead>\n",
       "    <tr style=\"text-align: right;\">\n",
       "      <th></th>\n",
       "      <th>state</th>\n",
       "      <th>accountlength</th>\n",
       "      <th>areacode</th>\n",
       "      <th>internationalplan</th>\n",
       "      <th>voicemailplan</th>\n",
       "      <th>numbervmailmessages</th>\n",
       "      <th>totaldayminutes</th>\n",
       "      <th>totaldaycalls</th>\n",
       "      <th>totaldaycharge</th>\n",
       "      <th>totaleveminutes</th>\n",
       "      <th>...</th>\n",
       "      <th>totalevecharge</th>\n",
       "      <th>totalnightminutes</th>\n",
       "      <th>totalnightcalls</th>\n",
       "      <th>totalnightcharge</th>\n",
       "      <th>totalintlminutes</th>\n",
       "      <th>totalintlcalls</th>\n",
       "      <th>totalintlcharge</th>\n",
       "      <th>numbercustomerservicecalls</th>\n",
       "      <th>Churn</th>\n",
       "      <th>istrainset</th>\n",
       "    </tr>\n",
       "  </thead>\n",
       "  <tbody>\n",
       "    <tr>\n",
       "      <th>0</th>\n",
       "      <td>16</td>\n",
       "      <td>128</td>\n",
       "      <td>1</td>\n",
       "      <td>0</td>\n",
       "      <td>1</td>\n",
       "      <td>25</td>\n",
       "      <td>265.1</td>\n",
       "      <td>110</td>\n",
       "      <td>45.07</td>\n",
       "      <td>197.4</td>\n",
       "      <td>...</td>\n",
       "      <td>16.78</td>\n",
       "      <td>244.7</td>\n",
       "      <td>91</td>\n",
       "      <td>11.01</td>\n",
       "      <td>10.0</td>\n",
       "      <td>3</td>\n",
       "      <td>2.70</td>\n",
       "      <td>1</td>\n",
       "      <td>0</td>\n",
       "      <td>True</td>\n",
       "    </tr>\n",
       "    <tr>\n",
       "      <th>1</th>\n",
       "      <td>35</td>\n",
       "      <td>107</td>\n",
       "      <td>1</td>\n",
       "      <td>0</td>\n",
       "      <td>1</td>\n",
       "      <td>26</td>\n",
       "      <td>161.6</td>\n",
       "      <td>123</td>\n",
       "      <td>27.47</td>\n",
       "      <td>195.5</td>\n",
       "      <td>...</td>\n",
       "      <td>16.62</td>\n",
       "      <td>254.4</td>\n",
       "      <td>103</td>\n",
       "      <td>11.45</td>\n",
       "      <td>13.7</td>\n",
       "      <td>3</td>\n",
       "      <td>3.70</td>\n",
       "      <td>1</td>\n",
       "      <td>0</td>\n",
       "      <td>True</td>\n",
       "    </tr>\n",
       "    <tr>\n",
       "      <th>2</th>\n",
       "      <td>31</td>\n",
       "      <td>137</td>\n",
       "      <td>1</td>\n",
       "      <td>0</td>\n",
       "      <td>0</td>\n",
       "      <td>0</td>\n",
       "      <td>243.4</td>\n",
       "      <td>114</td>\n",
       "      <td>41.38</td>\n",
       "      <td>121.2</td>\n",
       "      <td>...</td>\n",
       "      <td>10.30</td>\n",
       "      <td>162.6</td>\n",
       "      <td>104</td>\n",
       "      <td>7.32</td>\n",
       "      <td>12.2</td>\n",
       "      <td>5</td>\n",
       "      <td>3.29</td>\n",
       "      <td>0</td>\n",
       "      <td>0</td>\n",
       "      <td>True</td>\n",
       "    </tr>\n",
       "    <tr>\n",
       "      <th>3</th>\n",
       "      <td>35</td>\n",
       "      <td>84</td>\n",
       "      <td>0</td>\n",
       "      <td>1</td>\n",
       "      <td>0</td>\n",
       "      <td>0</td>\n",
       "      <td>299.4</td>\n",
       "      <td>71</td>\n",
       "      <td>50.90</td>\n",
       "      <td>61.9</td>\n",
       "      <td>...</td>\n",
       "      <td>5.26</td>\n",
       "      <td>196.9</td>\n",
       "      <td>89</td>\n",
       "      <td>8.86</td>\n",
       "      <td>6.6</td>\n",
       "      <td>7</td>\n",
       "      <td>1.78</td>\n",
       "      <td>2</td>\n",
       "      <td>0</td>\n",
       "      <td>True</td>\n",
       "    </tr>\n",
       "    <tr>\n",
       "      <th>4</th>\n",
       "      <td>36</td>\n",
       "      <td>75</td>\n",
       "      <td>1</td>\n",
       "      <td>1</td>\n",
       "      <td>0</td>\n",
       "      <td>0</td>\n",
       "      <td>166.7</td>\n",
       "      <td>113</td>\n",
       "      <td>28.34</td>\n",
       "      <td>148.3</td>\n",
       "      <td>...</td>\n",
       "      <td>12.61</td>\n",
       "      <td>186.9</td>\n",
       "      <td>121</td>\n",
       "      <td>8.41</td>\n",
       "      <td>10.1</td>\n",
       "      <td>3</td>\n",
       "      <td>2.73</td>\n",
       "      <td>3</td>\n",
       "      <td>0</td>\n",
       "      <td>True</td>\n",
       "    </tr>\n",
       "  </tbody>\n",
       "</table>\n",
       "<p>5 rows × 21 columns</p>\n",
       "</div>"
      ],
      "text/plain": [
       "  state  accountlength areacode internationalplan voicemailplan  \\\n",
       "0    16            128        1                 0             1   \n",
       "1    35            107        1                 0             1   \n",
       "2    31            137        1                 0             0   \n",
       "3    35             84        0                 1             0   \n",
       "4    36             75        1                 1             0   \n",
       "\n",
       "   numbervmailmessages  totaldayminutes  totaldaycalls  totaldaycharge  \\\n",
       "0                   25            265.1            110           45.07   \n",
       "1                   26            161.6            123           27.47   \n",
       "2                    0            243.4            114           41.38   \n",
       "3                    0            299.4             71           50.90   \n",
       "4                    0            166.7            113           28.34   \n",
       "\n",
       "   totaleveminutes    ...      totalevecharge  totalnightminutes  \\\n",
       "0            197.4    ...               16.78              244.7   \n",
       "1            195.5    ...               16.62              254.4   \n",
       "2            121.2    ...               10.30              162.6   \n",
       "3             61.9    ...                5.26              196.9   \n",
       "4            148.3    ...               12.61              186.9   \n",
       "\n",
       "   totalnightcalls  totalnightcharge  totalintlminutes  totalintlcalls  \\\n",
       "0               91             11.01              10.0               3   \n",
       "1              103             11.45              13.7               3   \n",
       "2              104              7.32              12.2               5   \n",
       "3               89              8.86               6.6               7   \n",
       "4              121              8.41              10.1               3   \n",
       "\n",
       "   totalintlcharge  numbercustomerservicecalls  Churn istrainset  \n",
       "0             2.70                           1      0       True  \n",
       "1             3.70                           1      0       True  \n",
       "2             3.29                           0      0       True  \n",
       "3             1.78                           2      0       True  \n",
       "4             2.73                           3      0       True  \n",
       "\n",
       "[5 rows x 21 columns]"
      ]
     },
     "execution_count": 34,
     "metadata": {},
     "output_type": "execute_result"
    }
   ],
   "source": [
    "without_outlier.head()"
   ]
  },
  {
   "cell_type": "code",
   "execution_count": 35,
   "metadata": {},
   "outputs": [
    {
     "data": {
      "text/plain": [
       "Text(0.5,1,'without outlier')"
      ]
     },
     "execution_count": 35,
     "metadata": {},
     "output_type": "execute_result"
    },
    {
     "data": {
      "image/png": "[encoded data removed]",
      "text/plain": [
       "<Figure size 1080x648 with 4 Axes>"
      ]
     },
     "metadata": {},
     "output_type": "display_data"
    }
   ],
   "source": [
    "#visualizing before and after effect of outlier on contionous variable\n",
    "fig,axs = plt.subplots(2,2,figsize = (15,9))\n",
    "\n",
    "axs[0,0].boxplot(with_outlier[\"accountlength\"])\n",
    "axs[0,0].set_title(\"with outlier\")\n",
    "\n",
    "axs[1,0].boxplot(without_outlier[\"accountlength\"])\n",
    "axs[1,0].set_title(\"without outlier\")\n",
    "\n",
    "axs[0,1].hist(with_outlier[\"accountlength\"],rwidth = 0.95)\n",
    "axs[0,1].set_title(\"with outlier\")\n",
    "\n",
    "axs[1,1].hist(without_outlier[\"accountlength\"],rwidth = 0.95)\n",
    "axs[1,1].set_title(\"without outlier\")"
   ]
  },
  {
   "cell_type": "markdown",
   "metadata": {},
   "source": [
    "## Feature Selection"
   ]
  },
  {
   "cell_type": "code",
   "execution_count": 36,
   "metadata": {},
   "outputs": [],
   "source": [
    "##Correlation analysis\n",
    "#Correlation plot\n",
    "df_corr = churn_train.loc[:,cnames]"
   ]
  },
  {
   "cell_type": "code",
   "execution_count": 37,
   "metadata": {},
   "outputs": [
    {
     "data": {
      "text/plain": [
       "<matplotlib.axes._subplots.AxesSubplot at 0xd0b9a9fe10>"
      ]
     },
     "execution_count": 37,
     "metadata": {},
     "output_type": "execute_result"
    },
    {
     "data": {
      "image/png": "[encoded data removed]",
      "text/plain": [
       "<Figure size 504x360 with 2 Axes>"
      ]
     },
     "metadata": {},
     "output_type": "display_data"
    }
   ],
   "source": [
    "#Set the width and hieght of the plot\n",
    "f, ax = plt.subplots(figsize=(7, 5))#figsize=(height,width)\n",
    "\n",
    "#Generate correlation matrix\n",
    "corr = df_corr.corr()\n",
    "\n",
    "#Plot using seaborn library\n",
    "sns.heatmap(corr, mask=np.zeros_like(corr, dtype=np.bool), cmap=sns.diverging_palette(220, 10, as_cmap=True),\n",
    "            square=True, ax=ax)"
   ]
  },
  {
   "cell_type": "code",
   "execution_count": 38,
   "metadata": {},
   "outputs": [],
   "source": [
    "#Chisquare test of independence\n",
    "#Save categorical variables\n",
    "cat_names = [\"state\",\"areacode\",\"voicemailplan\",\"internationalplan\"]"
   ]
  },
  {
   "cell_type": "code",
   "execution_count": 39,
   "metadata": {},
   "outputs": [
    {
     "name": "stdout",
     "output_type": "stream",
     "text": [
      "state\n",
      "0.009594705365683513\n",
      "areacode\n",
      "0.7344072016637799\n",
      "voicemailplan\n",
      "8.22509244176519e-09\n",
      "internationalplan\n",
      "5.260237906877538e-60\n"
     ]
    }
   ],
   "source": [
    "#loop for chi square values\n",
    "for i in cat_names:\n",
    "    print(i)\n",
    "    chi2, p, dof, ex = chi2_contingency(pd.crosstab(churn_train['Churn'], churn_train[i]))\n",
    "    print(p)"
   ]
  },
  {
   "cell_type": "code",
   "execution_count": 40,
   "metadata": {},
   "outputs": [],
   "source": [
    "#Dimension reduction\n",
    "churn_train = churn_train.drop([\"totaldaycharge\",\"totalevecharge\",\"totalnightcharge\",\"totalintlcharge\",\"areacode\"], axis=1)\n",
    "churn_test = churn_test.drop([\"totaldaycharge\",\"totalevecharge\",\"totalnightcharge\",\"totalintlcharge\",\"areacode\"], axis=1)\n"
   ]
  },
  {
   "cell_type": "code",
   "execution_count": 41,
   "metadata": {},
   "outputs": [
    {
     "data": {
      "text/plain": [
       "(3066, 16)"
      ]
     },
     "execution_count": 41,
     "metadata": {},
     "output_type": "execute_result"
    }
   ],
   "source": [
    "churn_train.shape"
   ]
  },
  {
   "cell_type": "markdown",
   "metadata": {},
   "source": [
    "## Feature Scaling"
   ]
  },
  {
   "cell_type": "code",
   "execution_count": 42,
   "metadata": {},
   "outputs": [
    {
     "data": {
      "text/plain": [
       "(array([ 19.,  31.,  28.,  47.,  65.,  85.,  90., 133., 182., 175., 193.,\n",
       "        218., 238., 209., 212., 206., 212., 175., 116., 119.,  76.,  81.,\n",
       "         43.,  40.,  31.,  16.,   9.,   8.,   2.,   5.,   1.,   1.]),\n",
       " array([  1.    ,   8.5625,  16.125 ,  23.6875,  31.25  ,  38.8125,\n",
       "         46.375 ,  53.9375,  61.5   ,  69.0625,  76.625 ,  84.1875,\n",
       "         91.75  ,  99.3125, 106.875 , 114.4375, 122.    , 129.5625,\n",
       "        137.125 , 144.6875, 152.25  , 159.8125, 167.375 , 174.9375,\n",
       "        182.5   , 190.0625, 197.625 , 205.1875, 212.75  , 220.3125,\n",
       "        227.875 , 235.4375, 243.    ]),\n",
       " <a list of 32 Patch objects>)"
      ]
     },
     "execution_count": 42,
     "metadata": {},
     "output_type": "execute_result"
    },
    {
     "data": {
      "image/png": "[encoded data removed]",
      "text/plain": [
       "<Figure size 432x288 with 1 Axes>"
      ]
     },
     "metadata": {},
     "output_type": "display_data"
    }
   ],
   "source": [
    "#Normality check\n",
    "%matplotlib inline  \n",
    "plt.hist(churn_train['accountlength'], bins='auto',rwidth = 0.95)"
   ]
  },
  {
   "cell_type": "code",
   "execution_count": 43,
   "metadata": {},
   "outputs": [],
   "source": [
    "cnames = list(churn_train.select_dtypes(include = [np.number]))"
   ]
  },
  {
   "cell_type": "code",
   "execution_count": 44,
   "metadata": {},
   "outputs": [
    {
     "data": {
      "text/plain": [
       "['accountlength',\n",
       " 'numbervmailmessages',\n",
       " 'totaldayminutes',\n",
       " 'totaldaycalls',\n",
       " 'totaleveminutes',\n",
       " 'totalevecalls',\n",
       " 'totalnightminutes',\n",
       " 'totalnightcalls',\n",
       " 'totalintlminutes',\n",
       " 'totalintlcalls',\n",
       " 'numbercustomerservicecalls']"
      ]
     },
     "execution_count": 44,
     "metadata": {},
     "output_type": "execute_result"
    }
   ],
   "source": [
    "cnames"
   ]
  },
  {
   "cell_type": "code",
   "execution_count": 45,
   "metadata": {},
   "outputs": [
    {
     "data": {
      "text/html": [
       "<div>\n",
       "<style scoped>\n",
       "    .dataframe tbody tr th:only-of-type {\n",
       "        vertical-align: middle;\n",
       "    }\n",
       "\n",
       "    .dataframe tbody tr th {\n",
       "        vertical-align: top;\n",
       "    }\n",
       "\n",
       "    .dataframe thead th {\n",
       "        text-align: right;\n",
       "    }\n",
       "</style>\n",
       "<table border=\"1\" class=\"dataframe\">\n",
       "  <thead>\n",
       "    <tr style=\"text-align: right;\">\n",
       "      <th></th>\n",
       "      <th>state</th>\n",
       "      <th>accountlength</th>\n",
       "      <th>internationalplan</th>\n",
       "      <th>voicemailplan</th>\n",
       "      <th>numbervmailmessages</th>\n",
       "      <th>totaldayminutes</th>\n",
       "      <th>totaldaycalls</th>\n",
       "      <th>totaleveminutes</th>\n",
       "      <th>totalevecalls</th>\n",
       "      <th>totalnightminutes</th>\n",
       "      <th>totalnightcalls</th>\n",
       "      <th>totalintlminutes</th>\n",
       "      <th>totalintlcalls</th>\n",
       "      <th>numbercustomerservicecalls</th>\n",
       "      <th>Churn</th>\n",
       "      <th>istrainset</th>\n",
       "    </tr>\n",
       "  </thead>\n",
       "  <tbody>\n",
       "    <tr>\n",
       "      <th>0</th>\n",
       "      <td>16</td>\n",
       "      <td>128</td>\n",
       "      <td>0</td>\n",
       "      <td>1</td>\n",
       "      <td>25</td>\n",
       "      <td>265.1</td>\n",
       "      <td>110</td>\n",
       "      <td>197.4</td>\n",
       "      <td>99</td>\n",
       "      <td>244.7</td>\n",
       "      <td>91</td>\n",
       "      <td>10.0</td>\n",
       "      <td>3</td>\n",
       "      <td>1</td>\n",
       "      <td>0</td>\n",
       "      <td>True</td>\n",
       "    </tr>\n",
       "    <tr>\n",
       "      <th>1</th>\n",
       "      <td>35</td>\n",
       "      <td>107</td>\n",
       "      <td>0</td>\n",
       "      <td>1</td>\n",
       "      <td>26</td>\n",
       "      <td>161.6</td>\n",
       "      <td>123</td>\n",
       "      <td>195.5</td>\n",
       "      <td>103</td>\n",
       "      <td>254.4</td>\n",
       "      <td>103</td>\n",
       "      <td>13.7</td>\n",
       "      <td>3</td>\n",
       "      <td>1</td>\n",
       "      <td>0</td>\n",
       "      <td>True</td>\n",
       "    </tr>\n",
       "    <tr>\n",
       "      <th>2</th>\n",
       "      <td>31</td>\n",
       "      <td>137</td>\n",
       "      <td>0</td>\n",
       "      <td>0</td>\n",
       "      <td>0</td>\n",
       "      <td>243.4</td>\n",
       "      <td>114</td>\n",
       "      <td>121.2</td>\n",
       "      <td>110</td>\n",
       "      <td>162.6</td>\n",
       "      <td>104</td>\n",
       "      <td>12.2</td>\n",
       "      <td>5</td>\n",
       "      <td>0</td>\n",
       "      <td>0</td>\n",
       "      <td>True</td>\n",
       "    </tr>\n",
       "    <tr>\n",
       "      <th>3</th>\n",
       "      <td>35</td>\n",
       "      <td>84</td>\n",
       "      <td>1</td>\n",
       "      <td>0</td>\n",
       "      <td>0</td>\n",
       "      <td>299.4</td>\n",
       "      <td>71</td>\n",
       "      <td>61.9</td>\n",
       "      <td>88</td>\n",
       "      <td>196.9</td>\n",
       "      <td>89</td>\n",
       "      <td>6.6</td>\n",
       "      <td>7</td>\n",
       "      <td>2</td>\n",
       "      <td>0</td>\n",
       "      <td>True</td>\n",
       "    </tr>\n",
       "    <tr>\n",
       "      <th>4</th>\n",
       "      <td>36</td>\n",
       "      <td>75</td>\n",
       "      <td>1</td>\n",
       "      <td>0</td>\n",
       "      <td>0</td>\n",
       "      <td>166.7</td>\n",
       "      <td>113</td>\n",
       "      <td>148.3</td>\n",
       "      <td>122</td>\n",
       "      <td>186.9</td>\n",
       "      <td>121</td>\n",
       "      <td>10.1</td>\n",
       "      <td>3</td>\n",
       "      <td>3</td>\n",
       "      <td>0</td>\n",
       "      <td>True</td>\n",
       "    </tr>\n",
       "  </tbody>\n",
       "</table>\n",
       "</div>"
      ],
      "text/plain": [
       "  state  accountlength internationalplan voicemailplan  numbervmailmessages  \\\n",
       "0    16            128                 0             1                   25   \n",
       "1    35            107                 0             1                   26   \n",
       "2    31            137                 0             0                    0   \n",
       "3    35             84                 1             0                    0   \n",
       "4    36             75                 1             0                    0   \n",
       "\n",
       "   totaldayminutes  totaldaycalls  totaleveminutes  totalevecalls  \\\n",
       "0            265.1            110            197.4             99   \n",
       "1            161.6            123            195.5            103   \n",
       "2            243.4            114            121.2            110   \n",
       "3            299.4             71             61.9             88   \n",
       "4            166.7            113            148.3            122   \n",
       "\n",
       "   totalnightminutes  totalnightcalls  totalintlminutes  totalintlcalls  \\\n",
       "0              244.7               91              10.0               3   \n",
       "1              254.4              103              13.7               3   \n",
       "2              162.6              104              12.2               5   \n",
       "3              196.9               89               6.6               7   \n",
       "4              186.9              121              10.1               3   \n",
       "\n",
       "   numbercustomerservicecalls Churn  istrainset  \n",
       "0                           1     0        True  \n",
       "1                           1     0        True  \n",
       "2                           0     0        True  \n",
       "3                           2     0        True  \n",
       "4                           3     0        True  "
      ]
     },
     "execution_count": 45,
     "metadata": {},
     "output_type": "execute_result"
    }
   ],
   "source": [
    "churn_train.head()"
   ]
  },
  {
   "cell_type": "code",
   "execution_count": 46,
   "metadata": {},
   "outputs": [
    {
     "name": "stdout",
     "output_type": "stream",
     "text": [
      "accountlength\n",
      "numbervmailmessages\n",
      "totaldayminutes\n",
      "totaldaycalls\n",
      "totaleveminutes\n",
      "totalevecalls\n",
      "totalnightminutes\n",
      "totalnightcalls\n",
      "totalintlminutes\n",
      "totalintlcalls\n",
      "numbercustomerservicecalls\n"
     ]
    }
   ],
   "source": [
    "#Nomalisation for train data\n",
    "for i in cnames:\n",
    "    print(i)\n",
    "    churn_train[i] = (churn_train[i] - np.min(churn_train[i]))/(np.max(churn_train[i]) - np.min(churn_train[i]))"
   ]
  },
  {
   "cell_type": "code",
   "execution_count": 47,
   "metadata": {},
   "outputs": [
    {
     "name": "stdout",
     "output_type": "stream",
     "text": [
      "accountlength\n",
      "numbervmailmessages\n",
      "totaldayminutes\n",
      "totaldaycalls\n",
      "totaleveminutes\n",
      "totalevecalls\n",
      "totalnightminutes\n",
      "totalnightcalls\n",
      "totalintlminutes\n",
      "totalintlcalls\n",
      "numbercustomerservicecalls\n"
     ]
    }
   ],
   "source": [
    "#Normalization for test data\n",
    "for i in cnames:\n",
    "    print(i)\n",
    "    churn_test[i] = (churn_test[i] - np.min(churn_test[i]))/(np.max(churn_test[i]) - np.min(churn_test[i]))"
   ]
  },
  {
   "cell_type": "code",
   "execution_count": 48,
   "metadata": {},
   "outputs": [
    {
     "data": {
      "text/html": [
       "<div>\n",
       "<style scoped>\n",
       "    .dataframe tbody tr th:only-of-type {\n",
       "        vertical-align: middle;\n",
       "    }\n",
       "\n",
       "    .dataframe tbody tr th {\n",
       "        vertical-align: top;\n",
       "    }\n",
       "\n",
       "    .dataframe thead th {\n",
       "        text-align: right;\n",
       "    }\n",
       "</style>\n",
       "<table border=\"1\" class=\"dataframe\">\n",
       "  <thead>\n",
       "    <tr style=\"text-align: right;\">\n",
       "      <th></th>\n",
       "      <th>state</th>\n",
       "      <th>accountlength</th>\n",
       "      <th>internationalplan</th>\n",
       "      <th>voicemailplan</th>\n",
       "      <th>numbervmailmessages</th>\n",
       "      <th>totaldayminutes</th>\n",
       "      <th>totaldaycalls</th>\n",
       "      <th>totaleveminutes</th>\n",
       "      <th>totalevecalls</th>\n",
       "      <th>totalnightminutes</th>\n",
       "      <th>totalnightcalls</th>\n",
       "      <th>totalintlminutes</th>\n",
       "      <th>totalintlcalls</th>\n",
       "      <th>numbercustomerservicecalls</th>\n",
       "      <th>Churn</th>\n",
       "      <th>istrainset</th>\n",
       "    </tr>\n",
       "  </thead>\n",
       "  <tbody>\n",
       "    <tr>\n",
       "      <th>0</th>\n",
       "      <td>16</td>\n",
       "      <td>0.524793</td>\n",
       "      <td>0</td>\n",
       "      <td>1</td>\n",
       "      <td>0.490196</td>\n",
       "      <td>0.755701</td>\n",
       "      <td>0.674847</td>\n",
       "      <td>0.545605</td>\n",
       "      <td>0.582353</td>\n",
       "      <td>0.595750</td>\n",
       "      <td>0.408451</td>\n",
       "      <td>0.500</td>\n",
       "      <td>0.15</td>\n",
       "      <td>0.333333</td>\n",
       "      <td>0</td>\n",
       "      <td>True</td>\n",
       "    </tr>\n",
       "    <tr>\n",
       "      <th>1</th>\n",
       "      <td>35</td>\n",
       "      <td>0.438017</td>\n",
       "      <td>0</td>\n",
       "      <td>1</td>\n",
       "      <td>0.509804</td>\n",
       "      <td>0.460661</td>\n",
       "      <td>0.754601</td>\n",
       "      <td>0.540354</td>\n",
       "      <td>0.605882</td>\n",
       "      <td>0.621840</td>\n",
       "      <td>0.492958</td>\n",
       "      <td>0.685</td>\n",
       "      <td>0.15</td>\n",
       "      <td>0.333333</td>\n",
       "      <td>0</td>\n",
       "      <td>True</td>\n",
       "    </tr>\n",
       "    <tr>\n",
       "      <th>2</th>\n",
       "      <td>31</td>\n",
       "      <td>0.561983</td>\n",
       "      <td>0</td>\n",
       "      <td>0</td>\n",
       "      <td>0.000000</td>\n",
       "      <td>0.693843</td>\n",
       "      <td>0.699387</td>\n",
       "      <td>0.334992</td>\n",
       "      <td>0.647059</td>\n",
       "      <td>0.374933</td>\n",
       "      <td>0.500000</td>\n",
       "      <td>0.610</td>\n",
       "      <td>0.25</td>\n",
       "      <td>0.000000</td>\n",
       "      <td>0</td>\n",
       "      <td>True</td>\n",
       "    </tr>\n",
       "    <tr>\n",
       "      <th>3</th>\n",
       "      <td>35</td>\n",
       "      <td>0.342975</td>\n",
       "      <td>1</td>\n",
       "      <td>0</td>\n",
       "      <td>0.000000</td>\n",
       "      <td>0.853478</td>\n",
       "      <td>0.435583</td>\n",
       "      <td>0.171089</td>\n",
       "      <td>0.517647</td>\n",
       "      <td>0.467187</td>\n",
       "      <td>0.394366</td>\n",
       "      <td>0.330</td>\n",
       "      <td>0.35</td>\n",
       "      <td>0.666667</td>\n",
       "      <td>0</td>\n",
       "      <td>True</td>\n",
       "    </tr>\n",
       "    <tr>\n",
       "      <th>4</th>\n",
       "      <td>36</td>\n",
       "      <td>0.305785</td>\n",
       "      <td>1</td>\n",
       "      <td>0</td>\n",
       "      <td>0.000000</td>\n",
       "      <td>0.475200</td>\n",
       "      <td>0.693252</td>\n",
       "      <td>0.409895</td>\n",
       "      <td>0.717647</td>\n",
       "      <td>0.440290</td>\n",
       "      <td>0.619718</td>\n",
       "      <td>0.505</td>\n",
       "      <td>0.15</td>\n",
       "      <td>1.000000</td>\n",
       "      <td>0</td>\n",
       "      <td>True</td>\n",
       "    </tr>\n",
       "  </tbody>\n",
       "</table>\n",
       "</div>"
      ],
      "text/plain": [
       "  state  accountlength internationalplan voicemailplan  numbervmailmessages  \\\n",
       "0    16       0.524793                 0             1             0.490196   \n",
       "1    35       0.438017                 0             1             0.509804   \n",
       "2    31       0.561983                 0             0             0.000000   \n",
       "3    35       0.342975                 1             0             0.000000   \n",
       "4    36       0.305785                 1             0             0.000000   \n",
       "\n",
       "   totaldayminutes  totaldaycalls  totaleveminutes  totalevecalls  \\\n",
       "0         0.755701       0.674847         0.545605       0.582353   \n",
       "1         0.460661       0.754601         0.540354       0.605882   \n",
       "2         0.693843       0.699387         0.334992       0.647059   \n",
       "3         0.853478       0.435583         0.171089       0.517647   \n",
       "4         0.475200       0.693252         0.409895       0.717647   \n",
       "\n",
       "   totalnightminutes  totalnightcalls  totalintlminutes  totalintlcalls  \\\n",
       "0           0.595750         0.408451             0.500            0.15   \n",
       "1           0.621840         0.492958             0.685            0.15   \n",
       "2           0.374933         0.500000             0.610            0.25   \n",
       "3           0.467187         0.394366             0.330            0.35   \n",
       "4           0.440290         0.619718             0.505            0.15   \n",
       "\n",
       "   numbercustomerservicecalls Churn  istrainset  \n",
       "0                    0.333333     0        True  \n",
       "1                    0.333333     0        True  \n",
       "2                    0.000000     0        True  \n",
       "3                    0.666667     0        True  \n",
       "4                    1.000000     0        True  "
      ]
     },
     "execution_count": 48,
     "metadata": {},
     "output_type": "execute_result"
    }
   ],
   "source": [
    "churn_train.head()"
   ]
  },
  {
   "cell_type": "code",
   "execution_count": 49,
   "metadata": {},
   "outputs": [
    {
     "data": {
      "text/plain": [
       "count    3066.000000\n",
       "mean        0.413184\n",
       "std         0.165806\n",
       "min         0.000000\n",
       "25%         0.297521\n",
       "50%         0.409091\n",
       "75%         0.524793\n",
       "max         1.000000\n",
       "Name: accountlength, dtype: float64"
      ]
     },
     "execution_count": 49,
     "metadata": {},
     "output_type": "execute_result"
    }
   ],
   "source": [
    "#summary of variable\n",
    "churn_train['accountlength'].describe()"
   ]
  },
  {
   "cell_type": "markdown",
   "metadata": {},
   "source": [
    "## Model Development"
   ]
  },
  {
   "cell_type": "code",
   "execution_count": 50,
   "metadata": {},
   "outputs": [],
   "source": [
    "#Import Libraries for decision tree\n",
    "from sklearn.model_selection import train_test_split\n",
    "from sklearn import datasets\n",
    "from sklearn import tree\n",
    "from sklearn.metrics import accuracy_score\n"
   ]
  },
  {
   "cell_type": "code",
   "execution_count": 51,
   "metadata": {},
   "outputs": [],
   "source": [
    "#combine the data\n",
    "churn_full = pd.concat([churn_train,churn_test])"
   ]
  },
  {
   "cell_type": "code",
   "execution_count": 52,
   "metadata": {},
   "outputs": [
    {
     "data": {
      "text/plain": [
       "(4733, 16)"
      ]
     },
     "execution_count": 52,
     "metadata": {},
     "output_type": "execute_result"
    }
   ],
   "source": [
    "churn_full.shape"
   ]
  },
  {
   "cell_type": "code",
   "execution_count": 53,
   "metadata": {},
   "outputs": [],
   "source": [
    "#replace target categories with Yes or No\n",
    "churn_full['Churn'] = churn_full['Churn'].replace(0, 'No')\n",
    "churn_full['Churn'] = churn_full['Churn'].replace(1, 'Yes')"
   ]
  },
  {
   "cell_type": "code",
   "execution_count": 54,
   "metadata": {},
   "outputs": [],
   "source": [
    "#separate combine data\n",
    "churn_train = churn_full.loc[churn_full['istrainset'] == True]\n",
    "churn_test = churn_full.loc[churn_full[\"istrainset\"] == False]"
   ]
  },
  {
   "cell_type": "code",
   "execution_count": 55,
   "metadata": {},
   "outputs": [],
   "source": [
    "#delete boolean variable as it is of no use\n",
    "del churn_train[\"istrainset\"]\n",
    "del churn_test[\"istrainset\"]"
   ]
  },
  {
   "cell_type": "code",
   "execution_count": 56,
   "metadata": {},
   "outputs": [
    {
     "data": {
      "text/plain": [
       "(3066, 15)"
      ]
     },
     "execution_count": 56,
     "metadata": {},
     "output_type": "execute_result"
    }
   ],
   "source": [
    "churn_train.shape"
   ]
  },
  {
   "cell_type": "code",
   "execution_count": 57,
   "metadata": {},
   "outputs": [],
   "source": [
    "#Divide data into train and test\n",
    "X = churn_train.values[:, 0:14]\n",
    "Y = churn_train.values[:,14]\n",
    "\n",
    "X_train, X_test, y_train, y_test = train_test_split( X, Y, test_size = 0.2)"
   ]
  },
  {
   "cell_type": "markdown",
   "metadata": {},
   "source": [
    "## Decision tree"
   ]
  },
  {
   "cell_type": "code",
   "execution_count": 58,
   "metadata": {},
   "outputs": [],
   "source": [
    "#Decision Tree\n",
    "C50_model = tree.DecisionTreeClassifier(criterion='entropy').fit(X_train, y_train)"
   ]
  },
  {
   "cell_type": "code",
   "execution_count": 59,
   "metadata": {},
   "outputs": [
    {
     "data": {
      "text/plain": [
       "DecisionTreeClassifier(class_weight=None, criterion='entropy', max_depth=None,\n",
       "            max_features=None, max_leaf_nodes=None,\n",
       "            min_impurity_decrease=0.0, min_impurity_split=None,\n",
       "            min_samples_leaf=1, min_samples_split=2,\n",
       "            min_weight_fraction_leaf=0.0, presort=False, random_state=None,\n",
       "            splitter='best')"
      ]
     },
     "execution_count": 59,
     "metadata": {},
     "output_type": "execute_result"
    }
   ],
   "source": [
    "C50_model"
   ]
  },
  {
   "cell_type": "code",
   "execution_count": 60,
   "metadata": {},
   "outputs": [],
   "source": [
    "#predict new test cases\n",
    "C50_predictions = C50_model.predict(X_test)"
   ]
  },
  {
   "cell_type": "code",
   "execution_count": 61,
   "metadata": {},
   "outputs": [],
   "source": [
    "from graphviz import Source\n",
    "from sklearn import tree\n"
   ]
  },
  {
   "cell_type": "code",
   "execution_count": 62,
   "metadata": {},
   "outputs": [],
   "source": [
    "#Create dot file to visualise tree  #http://webgraphviz.com/\n",
    "dotfile = open(\"p.dot\", 'w')\n",
    "\n",
    "df = tree.export_graphviz(C50_model, out_file=dotfile, feature_names = churn_train.columns[0:14])"
   ]
  },
  {
   "cell_type": "code",
   "execution_count": 63,
   "metadata": {},
   "outputs": [],
   "source": [
    "#build confusion matrix\n",
    "# from sklearn.metrics import confusion_matrix \n",
    "# CM = confusion_matrix(y_test, y_pred)\n",
    "CM = pd.crosstab(y_test, C50_predictions)\n",
    "\n",
    "#let us save TP, TN, FP, FN\n",
    "TN = CM.iloc[0,0]\n",
    "FN = CM.iloc[1,0]\n",
    "TP = CM.iloc[1,1]\n",
    "FP = CM.iloc[0,1]\n"
   ]
  },
  {
   "cell_type": "code",
   "execution_count": 64,
   "metadata": {},
   "outputs": [
    {
     "data": {
      "text/plain": [
       "95.58011049723757"
      ]
     },
     "execution_count": 64,
     "metadata": {},
     "output_type": "execute_result"
    }
   ],
   "source": [
    "#check accuracy of model\n",
    "#((TP+TN)*100)/(TP+TN+FP+FN)\n",
    "#False Negative rate \n",
    "#(FN*100)/(FN+TP)\n",
    "#Sensitivity\n",
    "#(TP*100)/(TP+FN)\n",
    "#Specificity\n",
    "(TN*100)/(TN+FP)\n"
   ]
  },
  {
   "cell_type": "code",
   "execution_count": 65,
   "metadata": {},
   "outputs": [],
   "source": [
    "#Result\n",
    "#Accuracy = 92.99\n",
    "#FNR = 40\n",
    "#Sensiivity = 60\n",
    "#Specificity = 96.90"
   ]
  },
  {
   "cell_type": "markdown",
   "metadata": {},
   "source": [
    "## Random Forest"
   ]
  },
  {
   "cell_type": "code",
   "execution_count": 66,
   "metadata": {},
   "outputs": [],
   "source": [
    "#Random Forest\n",
    "from sklearn.ensemble import RandomForestClassifier"
   ]
  },
  {
   "cell_type": "code",
   "execution_count": 67,
   "metadata": {},
   "outputs": [],
   "source": [
    "RF_model = RandomForestClassifier(n_estimators = 100).fit(X_train, y_train)"
   ]
  },
  {
   "cell_type": "code",
   "execution_count": 68,
   "metadata": {},
   "outputs": [],
   "source": [
    "RF_Predictions = RF_model.predict(X_test)"
   ]
  },
  {
   "cell_type": "code",
   "execution_count": 69,
   "metadata": {},
   "outputs": [],
   "source": [
    "#build confusion matrix\n",
    "# from sklearn.metrics import confusion_matrix \n",
    "# CM = confusion_matrix(y_test, y_pred)\n",
    "CM = pd.crosstab(y_test, RF_Predictions)\n",
    "\n",
    "#let us save TP, TN, FP, FN\n",
    "TN = CM.iloc[0,0]\n",
    "FN = CM.iloc[1,0]\n",
    "TP = CM.iloc[1,1]\n",
    "FP = CM.iloc[0,1]"
   ]
  },
  {
   "cell_type": "code",
   "execution_count": 70,
   "metadata": {},
   "outputs": [
    {
     "data": {
      "text/plain": [
       "100.0"
      ]
     },
     "execution_count": 70,
     "metadata": {},
     "output_type": "execute_result"
    }
   ],
   "source": [
    "#check accuracy of model\n",
    "#((TP+TN)*100)/(TP+TN+FP+FN)\n",
    "#False Negative rate \n",
    "#(FN*100)/(FN+TP)\n",
    "#Sensitivity\n",
    "#(TP*100)/(TP+FN)\n",
    "#Specificity\n",
    "(TN*100)/(TN+FP)"
   ]
  },
  {
   "cell_type": "code",
   "execution_count": 71,
   "metadata": {},
   "outputs": [],
   "source": [
    "##Result\n",
    "#Accuracy = 95.27\n",
    "#FNR = 41.53\n",
    "#Sensiivity = 58.46\n",
    "#Specificity = 99.81 "
   ]
  },
  {
   "cell_type": "code",
   "execution_count": 72,
   "metadata": {},
   "outputs": [
    {
     "data": {
      "text/plain": [
       "(3066, 15)"
      ]
     },
     "execution_count": 72,
     "metadata": {},
     "output_type": "execute_result"
    }
   ],
   "source": [
    "churn_train.shape"
   ]
  },
  {
   "cell_type": "markdown",
   "metadata": {},
   "source": [
    "## Logistic Regression"
   ]
  },
  {
   "cell_type": "code",
   "execution_count": 73,
   "metadata": {},
   "outputs": [
    {
     "name": "stderr",
     "output_type": "stream",
     "text": [
      "C:\\Users\\vrush_000\\Anaconda3\\lib\\site-packages\\ipykernel_launcher.py:3: SettingWithCopyWarning: \n",
      "A value is trying to be set on a copy of a slice from a DataFrame.\n",
      "Try using .loc[row_indexer,col_indexer] = value instead\n",
      "\n",
      "See the caveats in the documentation: http://pandas.pydata.org/pandas-docs/stable/indexing.html#indexing-view-versus-copy\n",
      "  This is separate from the ipykernel package so we can avoid doing imports until\n",
      "C:\\Users\\vrush_000\\Anaconda3\\lib\\site-packages\\ipykernel_launcher.py:4: SettingWithCopyWarning: \n",
      "A value is trying to be set on a copy of a slice from a DataFrame.\n",
      "Try using .loc[row_indexer,col_indexer] = value instead\n",
      "\n",
      "See the caveats in the documentation: http://pandas.pydata.org/pandas-docs/stable/indexing.html#indexing-view-versus-copy\n",
      "  after removing the cwd from sys.path.\n"
     ]
    }
   ],
   "source": [
    "#Let us prepare data for logistic regression\n",
    "#replace target categories with Yes or No\n",
    "churn_train['Churn'] = churn_train[\"Churn\"].replace('No', 0)\n",
    "churn_train['Churn'] = churn_train[\"Churn\"].replace('Yes', 1)"
   ]
  },
  {
   "cell_type": "code",
   "execution_count": 74,
   "metadata": {},
   "outputs": [
    {
     "data": {
      "text/html": [
       "<div>\n",
       "<style scoped>\n",
       "    .dataframe tbody tr th:only-of-type {\n",
       "        vertical-align: middle;\n",
       "    }\n",
       "\n",
       "    .dataframe tbody tr th {\n",
       "        vertical-align: top;\n",
       "    }\n",
       "\n",
       "    .dataframe thead th {\n",
       "        text-align: right;\n",
       "    }\n",
       "</style>\n",
       "<table border=\"1\" class=\"dataframe\">\n",
       "  <thead>\n",
       "    <tr style=\"text-align: right;\">\n",
       "      <th></th>\n",
       "      <th>state</th>\n",
       "      <th>accountlength</th>\n",
       "      <th>internationalplan</th>\n",
       "      <th>voicemailplan</th>\n",
       "      <th>numbervmailmessages</th>\n",
       "      <th>totaldayminutes</th>\n",
       "      <th>totaldaycalls</th>\n",
       "      <th>totaleveminutes</th>\n",
       "      <th>totalevecalls</th>\n",
       "      <th>totalnightminutes</th>\n",
       "      <th>totalnightcalls</th>\n",
       "      <th>totalintlminutes</th>\n",
       "      <th>totalintlcalls</th>\n",
       "      <th>numbercustomerservicecalls</th>\n",
       "      <th>Churn</th>\n",
       "    </tr>\n",
       "  </thead>\n",
       "  <tbody>\n",
       "    <tr>\n",
       "      <th>0</th>\n",
       "      <td>16</td>\n",
       "      <td>0.524793</td>\n",
       "      <td>0</td>\n",
       "      <td>1</td>\n",
       "      <td>0.490196</td>\n",
       "      <td>0.755701</td>\n",
       "      <td>0.674847</td>\n",
       "      <td>0.545605</td>\n",
       "      <td>0.582353</td>\n",
       "      <td>0.595750</td>\n",
       "      <td>0.408451</td>\n",
       "      <td>0.500</td>\n",
       "      <td>0.15</td>\n",
       "      <td>0.333333</td>\n",
       "      <td>0</td>\n",
       "    </tr>\n",
       "    <tr>\n",
       "      <th>1</th>\n",
       "      <td>35</td>\n",
       "      <td>0.438017</td>\n",
       "      <td>0</td>\n",
       "      <td>1</td>\n",
       "      <td>0.509804</td>\n",
       "      <td>0.460661</td>\n",
       "      <td>0.754601</td>\n",
       "      <td>0.540354</td>\n",
       "      <td>0.605882</td>\n",
       "      <td>0.621840</td>\n",
       "      <td>0.492958</td>\n",
       "      <td>0.685</td>\n",
       "      <td>0.15</td>\n",
       "      <td>0.333333</td>\n",
       "      <td>0</td>\n",
       "    </tr>\n",
       "    <tr>\n",
       "      <th>2</th>\n",
       "      <td>31</td>\n",
       "      <td>0.561983</td>\n",
       "      <td>0</td>\n",
       "      <td>0</td>\n",
       "      <td>0.000000</td>\n",
       "      <td>0.693843</td>\n",
       "      <td>0.699387</td>\n",
       "      <td>0.334992</td>\n",
       "      <td>0.647059</td>\n",
       "      <td>0.374933</td>\n",
       "      <td>0.500000</td>\n",
       "      <td>0.610</td>\n",
       "      <td>0.25</td>\n",
       "      <td>0.000000</td>\n",
       "      <td>0</td>\n",
       "    </tr>\n",
       "    <tr>\n",
       "      <th>3</th>\n",
       "      <td>35</td>\n",
       "      <td>0.342975</td>\n",
       "      <td>1</td>\n",
       "      <td>0</td>\n",
       "      <td>0.000000</td>\n",
       "      <td>0.853478</td>\n",
       "      <td>0.435583</td>\n",
       "      <td>0.171089</td>\n",
       "      <td>0.517647</td>\n",
       "      <td>0.467187</td>\n",
       "      <td>0.394366</td>\n",
       "      <td>0.330</td>\n",
       "      <td>0.35</td>\n",
       "      <td>0.666667</td>\n",
       "      <td>0</td>\n",
       "    </tr>\n",
       "    <tr>\n",
       "      <th>4</th>\n",
       "      <td>36</td>\n",
       "      <td>0.305785</td>\n",
       "      <td>1</td>\n",
       "      <td>0</td>\n",
       "      <td>0.000000</td>\n",
       "      <td>0.475200</td>\n",
       "      <td>0.693252</td>\n",
       "      <td>0.409895</td>\n",
       "      <td>0.717647</td>\n",
       "      <td>0.440290</td>\n",
       "      <td>0.619718</td>\n",
       "      <td>0.505</td>\n",
       "      <td>0.15</td>\n",
       "      <td>1.000000</td>\n",
       "      <td>0</td>\n",
       "    </tr>\n",
       "  </tbody>\n",
       "</table>\n",
       "</div>"
      ],
      "text/plain": [
       "  state  accountlength internationalplan voicemailplan  numbervmailmessages  \\\n",
       "0    16       0.524793                 0             1             0.490196   \n",
       "1    35       0.438017                 0             1             0.509804   \n",
       "2    31       0.561983                 0             0             0.000000   \n",
       "3    35       0.342975                 1             0             0.000000   \n",
       "4    36       0.305785                 1             0             0.000000   \n",
       "\n",
       "   totaldayminutes  totaldaycalls  totaleveminutes  totalevecalls  \\\n",
       "0         0.755701       0.674847         0.545605       0.582353   \n",
       "1         0.460661       0.754601         0.540354       0.605882   \n",
       "2         0.693843       0.699387         0.334992       0.647059   \n",
       "3         0.853478       0.435583         0.171089       0.517647   \n",
       "4         0.475200       0.693252         0.409895       0.717647   \n",
       "\n",
       "   totalnightminutes  totalnightcalls  totalintlminutes  totalintlcalls  \\\n",
       "0           0.595750         0.408451             0.500            0.15   \n",
       "1           0.621840         0.492958             0.685            0.15   \n",
       "2           0.374933         0.500000             0.610            0.25   \n",
       "3           0.467187         0.394366             0.330            0.35   \n",
       "4           0.440290         0.619718             0.505            0.15   \n",
       "\n",
       "   numbercustomerservicecalls  Churn  \n",
       "0                    0.333333      0  \n",
       "1                    0.333333      0  \n",
       "2                    0.000000      0  \n",
       "3                    0.666667      0  \n",
       "4                    1.000000      0  "
      ]
     },
     "execution_count": 74,
     "metadata": {},
     "output_type": "execute_result"
    }
   ],
   "source": [
    "churn_train.head()"
   ]
  },
  {
   "cell_type": "code",
   "execution_count": 75,
   "metadata": {},
   "outputs": [],
   "source": [
    "#Create logistic data. Save target variable first\n",
    "churn_train_logit = pd.DataFrame(churn_train['Churn'])"
   ]
  },
  {
   "cell_type": "code",
   "execution_count": 76,
   "metadata": {},
   "outputs": [],
   "source": [
    "#Add continous variables\n",
    "churn_train_logit = churn_train_logit.join(churn_train[cnames])"
   ]
  },
  {
   "cell_type": "code",
   "execution_count": 77,
   "metadata": {},
   "outputs": [
    {
     "data": {
      "text/html": [
       "<div>\n",
       "<style scoped>\n",
       "    .dataframe tbody tr th:only-of-type {\n",
       "        vertical-align: middle;\n",
       "    }\n",
       "\n",
       "    .dataframe tbody tr th {\n",
       "        vertical-align: top;\n",
       "    }\n",
       "\n",
       "    .dataframe thead th {\n",
       "        text-align: right;\n",
       "    }\n",
       "</style>\n",
       "<table border=\"1\" class=\"dataframe\">\n",
       "  <thead>\n",
       "    <tr style=\"text-align: right;\">\n",
       "      <th></th>\n",
       "      <th>Churn</th>\n",
       "      <th>accountlength</th>\n",
       "      <th>numbervmailmessages</th>\n",
       "      <th>totaldayminutes</th>\n",
       "      <th>totaldaycalls</th>\n",
       "      <th>totaleveminutes</th>\n",
       "      <th>totalevecalls</th>\n",
       "      <th>totalnightminutes</th>\n",
       "      <th>totalnightcalls</th>\n",
       "      <th>totalintlminutes</th>\n",
       "      <th>totalintlcalls</th>\n",
       "      <th>numbercustomerservicecalls</th>\n",
       "    </tr>\n",
       "  </thead>\n",
       "  <tbody>\n",
       "    <tr>\n",
       "      <th>0</th>\n",
       "      <td>0</td>\n",
       "      <td>0.524793</td>\n",
       "      <td>0.490196</td>\n",
       "      <td>0.755701</td>\n",
       "      <td>0.674847</td>\n",
       "      <td>0.545605</td>\n",
       "      <td>0.582353</td>\n",
       "      <td>0.595750</td>\n",
       "      <td>0.408451</td>\n",
       "      <td>0.500</td>\n",
       "      <td>0.15</td>\n",
       "      <td>0.333333</td>\n",
       "    </tr>\n",
       "    <tr>\n",
       "      <th>1</th>\n",
       "      <td>0</td>\n",
       "      <td>0.438017</td>\n",
       "      <td>0.509804</td>\n",
       "      <td>0.460661</td>\n",
       "      <td>0.754601</td>\n",
       "      <td>0.540354</td>\n",
       "      <td>0.605882</td>\n",
       "      <td>0.621840</td>\n",
       "      <td>0.492958</td>\n",
       "      <td>0.685</td>\n",
       "      <td>0.15</td>\n",
       "      <td>0.333333</td>\n",
       "    </tr>\n",
       "    <tr>\n",
       "      <th>2</th>\n",
       "      <td>0</td>\n",
       "      <td>0.561983</td>\n",
       "      <td>0.000000</td>\n",
       "      <td>0.693843</td>\n",
       "      <td>0.699387</td>\n",
       "      <td>0.334992</td>\n",
       "      <td>0.647059</td>\n",
       "      <td>0.374933</td>\n",
       "      <td>0.500000</td>\n",
       "      <td>0.610</td>\n",
       "      <td>0.25</td>\n",
       "      <td>0.000000</td>\n",
       "    </tr>\n",
       "    <tr>\n",
       "      <th>3</th>\n",
       "      <td>0</td>\n",
       "      <td>0.342975</td>\n",
       "      <td>0.000000</td>\n",
       "      <td>0.853478</td>\n",
       "      <td>0.435583</td>\n",
       "      <td>0.171089</td>\n",
       "      <td>0.517647</td>\n",
       "      <td>0.467187</td>\n",
       "      <td>0.394366</td>\n",
       "      <td>0.330</td>\n",
       "      <td>0.35</td>\n",
       "      <td>0.666667</td>\n",
       "    </tr>\n",
       "    <tr>\n",
       "      <th>4</th>\n",
       "      <td>0</td>\n",
       "      <td>0.305785</td>\n",
       "      <td>0.000000</td>\n",
       "      <td>0.475200</td>\n",
       "      <td>0.693252</td>\n",
       "      <td>0.409895</td>\n",
       "      <td>0.717647</td>\n",
       "      <td>0.440290</td>\n",
       "      <td>0.619718</td>\n",
       "      <td>0.505</td>\n",
       "      <td>0.15</td>\n",
       "      <td>1.000000</td>\n",
       "    </tr>\n",
       "  </tbody>\n",
       "</table>\n",
       "</div>"
      ],
      "text/plain": [
       "   Churn  accountlength  numbervmailmessages  totaldayminutes  totaldaycalls  \\\n",
       "0      0       0.524793             0.490196         0.755701       0.674847   \n",
       "1      0       0.438017             0.509804         0.460661       0.754601   \n",
       "2      0       0.561983             0.000000         0.693843       0.699387   \n",
       "3      0       0.342975             0.000000         0.853478       0.435583   \n",
       "4      0       0.305785             0.000000         0.475200       0.693252   \n",
       "\n",
       "   totaleveminutes  totalevecalls  totalnightminutes  totalnightcalls  \\\n",
       "0         0.545605       0.582353           0.595750         0.408451   \n",
       "1         0.540354       0.605882           0.621840         0.492958   \n",
       "2         0.334992       0.647059           0.374933         0.500000   \n",
       "3         0.171089       0.517647           0.467187         0.394366   \n",
       "4         0.409895       0.717647           0.440290         0.619718   \n",
       "\n",
       "   totalintlminutes  totalintlcalls  numbercustomerservicecalls  \n",
       "0             0.500            0.15                    0.333333  \n",
       "1             0.685            0.15                    0.333333  \n",
       "2             0.610            0.25                    0.000000  \n",
       "3             0.330            0.35                    0.666667  \n",
       "4             0.505            0.15                    1.000000  "
      ]
     },
     "execution_count": 77,
     "metadata": {},
     "output_type": "execute_result"
    }
   ],
   "source": [
    "churn_train_logit.head()"
   ]
  },
  {
   "cell_type": "code",
   "execution_count": 78,
   "metadata": {},
   "outputs": [],
   "source": [
    "##Create dummies for categorical variables\n",
    "cat_names = [\"state\",\"voicemailplan\",\"internationalplan\"]\n",
    "\n",
    "for i in cat_names:\n",
    "    temp = pd.get_dummies(churn_train[i], prefix = i)\n",
    "    churn_train_logit = churn_train_logit.join(temp)"
   ]
  },
  {
   "cell_type": "code",
   "execution_count": 79,
   "metadata": {},
   "outputs": [
    {
     "data": {
      "text/plain": [
       "(3066, 67)"
      ]
     },
     "execution_count": 79,
     "metadata": {},
     "output_type": "execute_result"
    }
   ],
   "source": [
    "churn_train_logit.shape"
   ]
  },
  {
   "cell_type": "code",
   "execution_count": 80,
   "metadata": {},
   "outputs": [],
   "source": [
    "#splitting into train and test dataset\n",
    "Sample_Index = np.random.rand(len(churn_train_logit)) < 0.8\n",
    "\n",
    "train = churn_train_logit[Sample_Index]\n",
    "test = churn_train_logit[~Sample_Index]"
   ]
  },
  {
   "cell_type": "code",
   "execution_count": 81,
   "metadata": {},
   "outputs": [
    {
     "data": {
      "text/html": [
       "<div>\n",
       "<style scoped>\n",
       "    .dataframe tbody tr th:only-of-type {\n",
       "        vertical-align: middle;\n",
       "    }\n",
       "\n",
       "    .dataframe tbody tr th {\n",
       "        vertical-align: top;\n",
       "    }\n",
       "\n",
       "    .dataframe thead th {\n",
       "        text-align: right;\n",
       "    }\n",
       "</style>\n",
       "<table border=\"1\" class=\"dataframe\">\n",
       "  <thead>\n",
       "    <tr style=\"text-align: right;\">\n",
       "      <th></th>\n",
       "      <th>Churn</th>\n",
       "      <th>accountlength</th>\n",
       "      <th>numbervmailmessages</th>\n",
       "      <th>totaldayminutes</th>\n",
       "      <th>totaldaycalls</th>\n",
       "      <th>totaleveminutes</th>\n",
       "      <th>totalevecalls</th>\n",
       "      <th>totalnightminutes</th>\n",
       "      <th>totalnightcalls</th>\n",
       "      <th>totalintlminutes</th>\n",
       "      <th>...</th>\n",
       "      <th>state_45</th>\n",
       "      <th>state_46</th>\n",
       "      <th>state_47</th>\n",
       "      <th>state_48</th>\n",
       "      <th>state_49</th>\n",
       "      <th>state_50</th>\n",
       "      <th>voicemailplan_0</th>\n",
       "      <th>voicemailplan_1</th>\n",
       "      <th>internationalplan_0</th>\n",
       "      <th>internationalplan_1</th>\n",
       "    </tr>\n",
       "  </thead>\n",
       "  <tbody>\n",
       "    <tr>\n",
       "      <th>1</th>\n",
       "      <td>0</td>\n",
       "      <td>0.438017</td>\n",
       "      <td>0.509804</td>\n",
       "      <td>0.460661</td>\n",
       "      <td>0.754601</td>\n",
       "      <td>0.540354</td>\n",
       "      <td>0.605882</td>\n",
       "      <td>0.621840</td>\n",
       "      <td>0.492958</td>\n",
       "      <td>0.685</td>\n",
       "      <td>...</td>\n",
       "      <td>0</td>\n",
       "      <td>0</td>\n",
       "      <td>0</td>\n",
       "      <td>0</td>\n",
       "      <td>0</td>\n",
       "      <td>0</td>\n",
       "      <td>0</td>\n",
       "      <td>1</td>\n",
       "      <td>1</td>\n",
       "      <td>0</td>\n",
       "    </tr>\n",
       "    <tr>\n",
       "      <th>2</th>\n",
       "      <td>0</td>\n",
       "      <td>0.561983</td>\n",
       "      <td>0.000000</td>\n",
       "      <td>0.693843</td>\n",
       "      <td>0.699387</td>\n",
       "      <td>0.334992</td>\n",
       "      <td>0.647059</td>\n",
       "      <td>0.374933</td>\n",
       "      <td>0.500000</td>\n",
       "      <td>0.610</td>\n",
       "      <td>...</td>\n",
       "      <td>0</td>\n",
       "      <td>0</td>\n",
       "      <td>0</td>\n",
       "      <td>0</td>\n",
       "      <td>0</td>\n",
       "      <td>0</td>\n",
       "      <td>1</td>\n",
       "      <td>0</td>\n",
       "      <td>1</td>\n",
       "      <td>0</td>\n",
       "    </tr>\n",
       "    <tr>\n",
       "      <th>4</th>\n",
       "      <td>0</td>\n",
       "      <td>0.305785</td>\n",
       "      <td>0.000000</td>\n",
       "      <td>0.475200</td>\n",
       "      <td>0.693252</td>\n",
       "      <td>0.409895</td>\n",
       "      <td>0.717647</td>\n",
       "      <td>0.440290</td>\n",
       "      <td>0.619718</td>\n",
       "      <td>0.505</td>\n",
       "      <td>...</td>\n",
       "      <td>0</td>\n",
       "      <td>0</td>\n",
       "      <td>0</td>\n",
       "      <td>0</td>\n",
       "      <td>0</td>\n",
       "      <td>0</td>\n",
       "      <td>1</td>\n",
       "      <td>0</td>\n",
       "      <td>0</td>\n",
       "      <td>1</td>\n",
       "    </tr>\n",
       "    <tr>\n",
       "      <th>6</th>\n",
       "      <td>0</td>\n",
       "      <td>0.495868</td>\n",
       "      <td>0.470588</td>\n",
       "      <td>0.622007</td>\n",
       "      <td>0.539877</td>\n",
       "      <td>0.963239</td>\n",
       "      <td>0.635294</td>\n",
       "      <td>0.509414</td>\n",
       "      <td>0.598592</td>\n",
       "      <td>0.375</td>\n",
       "      <td>...</td>\n",
       "      <td>0</td>\n",
       "      <td>0</td>\n",
       "      <td>0</td>\n",
       "      <td>0</td>\n",
       "      <td>0</td>\n",
       "      <td>0</td>\n",
       "      <td>0</td>\n",
       "      <td>1</td>\n",
       "      <td>1</td>\n",
       "      <td>0</td>\n",
       "    </tr>\n",
       "    <tr>\n",
       "      <th>8</th>\n",
       "      <td>0</td>\n",
       "      <td>0.479339</td>\n",
       "      <td>0.000000</td>\n",
       "      <td>0.525941</td>\n",
       "      <td>0.595092</td>\n",
       "      <td>0.971808</td>\n",
       "      <td>0.470588</td>\n",
       "      <td>0.518020</td>\n",
       "      <td>0.401408</td>\n",
       "      <td>0.435</td>\n",
       "      <td>...</td>\n",
       "      <td>0</td>\n",
       "      <td>0</td>\n",
       "      <td>0</td>\n",
       "      <td>0</td>\n",
       "      <td>0</td>\n",
       "      <td>0</td>\n",
       "      <td>1</td>\n",
       "      <td>0</td>\n",
       "      <td>1</td>\n",
       "      <td>0</td>\n",
       "    </tr>\n",
       "  </tbody>\n",
       "</table>\n",
       "<p>5 rows × 67 columns</p>\n",
       "</div>"
      ],
      "text/plain": [
       "   Churn  accountlength  numbervmailmessages  totaldayminutes  totaldaycalls  \\\n",
       "1      0       0.438017             0.509804         0.460661       0.754601   \n",
       "2      0       0.561983             0.000000         0.693843       0.699387   \n",
       "4      0       0.305785             0.000000         0.475200       0.693252   \n",
       "6      0       0.495868             0.470588         0.622007       0.539877   \n",
       "8      0       0.479339             0.000000         0.525941       0.595092   \n",
       "\n",
       "   totaleveminutes  totalevecalls  totalnightminutes  totalnightcalls  \\\n",
       "1         0.540354       0.605882           0.621840         0.492958   \n",
       "2         0.334992       0.647059           0.374933         0.500000   \n",
       "4         0.409895       0.717647           0.440290         0.619718   \n",
       "6         0.963239       0.635294           0.509414         0.598592   \n",
       "8         0.971808       0.470588           0.518020         0.401408   \n",
       "\n",
       "   totalintlminutes         ...           state_45  state_46  state_47  \\\n",
       "1             0.685         ...                  0         0         0   \n",
       "2             0.610         ...                  0         0         0   \n",
       "4             0.505         ...                  0         0         0   \n",
       "6             0.375         ...                  0         0         0   \n",
       "8             0.435         ...                  0         0         0   \n",
       "\n",
       "   state_48  state_49  state_50  voicemailplan_0  voicemailplan_1  \\\n",
       "1         0         0         0                0                1   \n",
       "2         0         0         0                1                0   \n",
       "4         0         0         0                1                0   \n",
       "6         0         0         0                0                1   \n",
       "8         0         0         0                1                0   \n",
       "\n",
       "   internationalplan_0  internationalplan_1  \n",
       "1                    1                    0  \n",
       "2                    1                    0  \n",
       "4                    0                    1  \n",
       "6                    1                    0  \n",
       "8                    1                    0  \n",
       "\n",
       "[5 rows x 67 columns]"
      ]
     },
     "execution_count": 81,
     "metadata": {},
     "output_type": "execute_result"
    }
   ],
   "source": [
    "train.head()"
   ]
  },
  {
   "cell_type": "code",
   "execution_count": 82,
   "metadata": {},
   "outputs": [],
   "source": [
    "#select column indexes for independent variables\n",
    "train_cols = train.columns[1:]"
   ]
  },
  {
   "cell_type": "code",
   "execution_count": 83,
   "metadata": {},
   "outputs": [
    {
     "data": {
      "text/plain": [
       "Index(['accountlength', 'numbervmailmessages', 'totaldayminutes',\n",
       "       'totaldaycalls', 'totaleveminutes', 'totalevecalls',\n",
       "       'totalnightminutes', 'totalnightcalls', 'totalintlminutes',\n",
       "       'totalintlcalls', 'numbercustomerservicecalls', 'state_0', 'state_1',\n",
       "       'state_2', 'state_3', 'state_4', 'state_5', 'state_6', 'state_7',\n",
       "       'state_8', 'state_9', 'state_10', 'state_11', 'state_12', 'state_13',\n",
       "       'state_14', 'state_15', 'state_16', 'state_17', 'state_18', 'state_19',\n",
       "       'state_20', 'state_21', 'state_22', 'state_23', 'state_24', 'state_25',\n",
       "       'state_26', 'state_27', 'state_28', 'state_29', 'state_30', 'state_31',\n",
       "       'state_32', 'state_33', 'state_34', 'state_35', 'state_36', 'state_37',\n",
       "       'state_38', 'state_39', 'state_40', 'state_41', 'state_42', 'state_43',\n",
       "       'state_44', 'state_45', 'state_46', 'state_47', 'state_48', 'state_49',\n",
       "       'state_50', 'voicemailplan_0', 'voicemailplan_1', 'internationalplan_0',\n",
       "       'internationalplan_1'],\n",
       "      dtype='object')"
      ]
     },
     "execution_count": 83,
     "metadata": {},
     "output_type": "execute_result"
    }
   ],
   "source": [
    "train_cols"
   ]
  },
  {
   "cell_type": "code",
   "execution_count": 84,
   "metadata": {},
   "outputs": [
    {
     "name": "stdout",
     "output_type": "stream",
     "text": [
      "Optimization terminated successfully.\n",
      "         Current function value: 0.235644\n",
      "         Iterations 11\n"
     ]
    }
   ],
   "source": [
    "#Built Logistic Regression\n",
    "import statsmodels.api as sm\n",
    "\n",
    "logit = sm.Logit(train['Churn'], train[train_cols]).fit()"
   ]
  },
  {
   "cell_type": "code",
   "execution_count": 85,
   "metadata": {},
   "outputs": [
    {
     "name": "stderr",
     "output_type": "stream",
     "text": [
      "C:\\Users\\vrush_000\\Anaconda3\\lib\\site-packages\\statsmodels\\base\\model.py:1092: RuntimeWarning: invalid value encountered in sqrt\n",
      "  bse_ = np.sqrt(np.diag(self.cov_params()))\n",
      "C:\\Users\\vrush_000\\Anaconda3\\lib\\site-packages\\scipy\\stats\\_distn_infrastructure.py:879: RuntimeWarning: invalid value encountered in greater\n",
      "  return (self.a < x) & (x < self.b)\n",
      "C:\\Users\\vrush_000\\Anaconda3\\lib\\site-packages\\scipy\\stats\\_distn_infrastructure.py:879: RuntimeWarning: invalid value encountered in less\n",
      "  return (self.a < x) & (x < self.b)\n",
      "C:\\Users\\vrush_000\\Anaconda3\\lib\\site-packages\\scipy\\stats\\_distn_infrastructure.py:1821: RuntimeWarning: invalid value encountered in less_equal\n",
      "  cond2 = cond0 & (x <= self.a)\n"
     ]
    },
    {
     "data": {
      "text/html": [
       "<table class=\"simpletable\">\n",
       "<caption>Logit Regression Results</caption>\n",
       "<tr>\n",
       "  <th>Dep. Variable:</th>       <td>Churn</td>      <th>  No. Observations:  </th>  <td>  2451</td>  \n",
       "</tr>\n",
       "<tr>\n",
       "  <th>Model:</th>               <td>Logit</td>      <th>  Df Residuals:      </th>  <td>  2387</td>  \n",
       "</tr>\n",
       "<tr>\n",
       "  <th>Method:</th>               <td>MLE</td>       <th>  Df Model:          </th>  <td>    63</td>  \n",
       "</tr>\n",
       "<tr>\n",
       "  <th>Date:</th>          <td>Mon, 18 Mar 2019</td> <th>  Pseudo R-squ.:     </th>  <td>0.3504</td>  \n",
       "</tr>\n",
       "<tr>\n",
       "  <th>Time:</th>              <td>12:23:07</td>     <th>  Log-Likelihood:    </th> <td> -577.56</td> \n",
       "</tr>\n",
       "<tr>\n",
       "  <th>converged:</th>           <td>True</td>       <th>  LL-Null:           </th> <td> -889.08</td> \n",
       "</tr>\n",
       "<tr>\n",
       "  <th> </th>                      <td> </td>        <th>  LLR p-value:       </th> <td>4.342e-93</td>\n",
       "</tr>\n",
       "</table>\n",
       "<table class=\"simpletable\">\n",
       "<tr>\n",
       "               <td></td>                 <th>coef</th>     <th>std err</th>      <th>z</th>      <th>P>|z|</th>  <th>[0.025</th>    <th>0.975]</th>  \n",
       "</tr>\n",
       "<tr>\n",
       "  <th>accountlength</th>              <td>    0.6899</td> <td>    0.475</td> <td>    1.453</td> <td> 0.146</td> <td>   -0.241</td> <td>    1.621</td>\n",
       "</tr>\n",
       "<tr>\n",
       "  <th>numbervmailmessages</th>        <td>    2.6887</td> <td>    1.324</td> <td>    2.030</td> <td> 0.042</td> <td>    0.093</td> <td>    5.284</td>\n",
       "</tr>\n",
       "<tr>\n",
       "  <th>totaldayminutes</th>            <td>    8.3634</td> <td>    0.598</td> <td>   13.990</td> <td> 0.000</td> <td>    7.192</td> <td>    9.535</td>\n",
       "</tr>\n",
       "<tr>\n",
       "  <th>totaldaycalls</th>              <td>    0.6806</td> <td>    0.638</td> <td>    1.067</td> <td> 0.286</td> <td>   -0.569</td> <td>    1.931</td>\n",
       "</tr>\n",
       "<tr>\n",
       "  <th>totaleveminutes</th>            <td>    5.1086</td> <td>    0.602</td> <td>    8.487</td> <td> 0.000</td> <td>    3.929</td> <td>    6.288</td>\n",
       "</tr>\n",
       "<tr>\n",
       "  <th>totalevecalls</th>              <td>   -0.1773</td> <td>    0.686</td> <td>   -0.259</td> <td> 0.796</td> <td>   -1.521</td> <td>    1.167</td>\n",
       "</tr>\n",
       "<tr>\n",
       "  <th>totalnightminutes</th>          <td>    2.5247</td> <td>    0.594</td> <td>    4.253</td> <td> 0.000</td> <td>    1.361</td> <td>    3.688</td>\n",
       "</tr>\n",
       "<tr>\n",
       "  <th>totalnightcalls</th>            <td>    0.1963</td> <td>    0.572</td> <td>    0.343</td> <td> 0.731</td> <td>   -0.924</td> <td>    1.317</td>\n",
       "</tr>\n",
       "<tr>\n",
       "  <th>totalintlminutes</th>           <td>    2.3937</td> <td>    0.586</td> <td>    4.083</td> <td> 0.000</td> <td>    1.245</td> <td>    3.543</td>\n",
       "</tr>\n",
       "<tr>\n",
       "  <th>totalintlcalls</th>             <td>   -1.5556</td> <td>    0.653</td> <td>   -2.383</td> <td> 0.017</td> <td>   -2.835</td> <td>   -0.276</td>\n",
       "</tr>\n",
       "<tr>\n",
       "  <th>numbercustomerservicecalls</th> <td>   -0.1639</td> <td>    0.235</td> <td>   -0.697</td> <td> 0.486</td> <td>   -0.625</td> <td>    0.297</td>\n",
       "</tr>\n",
       "<tr>\n",
       "  <th>state_0</th>                    <td>   -1.9935</td> <td> 5.88e+06</td> <td>-3.39e-07</td> <td> 1.000</td> <td>-1.15e+07</td> <td> 1.15e+07</td>\n",
       "</tr>\n",
       "<tr>\n",
       "  <th>state_1</th>                    <td>   -1.3264</td> <td> 5.88e+06</td> <td>-2.25e-07</td> <td> 1.000</td> <td>-1.15e+07</td> <td> 1.15e+07</td>\n",
       "</tr>\n",
       "<tr>\n",
       "  <th>state_2</th>                    <td>   -1.0744</td> <td> 5.88e+06</td> <td>-1.83e-07</td> <td> 1.000</td> <td>-1.15e+07</td> <td> 1.15e+07</td>\n",
       "</tr>\n",
       "<tr>\n",
       "  <th>state_3</th>                    <td>   -1.0761</td> <td> 5.88e+06</td> <td>-1.83e-07</td> <td> 1.000</td> <td>-1.15e+07</td> <td> 1.15e+07</td>\n",
       "</tr>\n",
       "<tr>\n",
       "  <th>state_4</th>                    <td>    0.1097</td> <td> 5.88e+06</td> <td> 1.86e-08</td> <td> 1.000</td> <td>-1.15e+07</td> <td> 1.15e+07</td>\n",
       "</tr>\n",
       "<tr>\n",
       "  <th>state_5</th>                    <td>   -0.2599</td> <td> 5.88e+06</td> <td>-4.42e-08</td> <td> 1.000</td> <td>-1.15e+07</td> <td> 1.15e+07</td>\n",
       "</tr>\n",
       "<tr>\n",
       "  <th>state_6</th>                    <td>   -0.2805</td> <td> 5.88e+06</td> <td>-4.77e-08</td> <td> 1.000</td> <td>-1.15e+07</td> <td> 1.15e+07</td>\n",
       "</tr>\n",
       "<tr>\n",
       "  <th>state_7</th>                    <td>   -0.2233</td> <td> 5.88e+06</td> <td> -3.8e-08</td> <td> 1.000</td> <td>-1.15e+07</td> <td> 1.15e+07</td>\n",
       "</tr>\n",
       "<tr>\n",
       "  <th>state_8</th>                    <td>   -0.9040</td> <td> 5.88e+06</td> <td>-1.54e-07</td> <td> 1.000</td> <td>-1.15e+07</td> <td> 1.15e+07</td>\n",
       "</tr>\n",
       "<tr>\n",
       "  <th>state_9</th>                    <td>   -0.4705</td> <td> 5.88e+06</td> <td>   -8e-08</td> <td> 1.000</td> <td>-1.15e+07</td> <td> 1.15e+07</td>\n",
       "</tr>\n",
       "<tr>\n",
       "  <th>state_10</th>                   <td>   -0.5904</td> <td> 5.88e+06</td> <td>   -1e-07</td> <td> 1.000</td> <td>-1.15e+07</td> <td> 1.15e+07</td>\n",
       "</tr>\n",
       "<tr>\n",
       "  <th>state_11</th>                   <td>   -1.6823</td> <td> 5.88e+06</td> <td>-2.86e-07</td> <td> 1.000</td> <td>-1.15e+07</td> <td> 1.15e+07</td>\n",
       "</tr>\n",
       "<tr>\n",
       "  <th>state_12</th>                   <td>   -1.1715</td> <td> 5.88e+06</td> <td>-1.99e-07</td> <td> 1.000</td> <td>-1.15e+07</td> <td> 1.15e+07</td>\n",
       "</tr>\n",
       "<tr>\n",
       "  <th>state_13</th>                   <td>   -0.4477</td> <td> 5.88e+06</td> <td>-7.61e-08</td> <td> 1.000</td> <td>-1.15e+07</td> <td> 1.15e+07</td>\n",
       "</tr>\n",
       "<tr>\n",
       "  <th>state_14</th>                   <td>   -1.5919</td> <td> 5.88e+06</td> <td>-2.71e-07</td> <td> 1.000</td> <td>-1.15e+07</td> <td> 1.15e+07</td>\n",
       "</tr>\n",
       "<tr>\n",
       "  <th>state_15</th>                   <td>   -1.0232</td> <td> 5.88e+06</td> <td>-1.74e-07</td> <td> 1.000</td> <td>-1.15e+07</td> <td> 1.15e+07</td>\n",
       "</tr>\n",
       "<tr>\n",
       "  <th>state_16</th>                   <td>    0.1699</td> <td> 5.88e+06</td> <td> 2.89e-08</td> <td> 1.000</td> <td>-1.15e+07</td> <td> 1.15e+07</td>\n",
       "</tr>\n",
       "<tr>\n",
       "  <th>state_17</th>                   <td>   -0.9193</td> <td> 5.88e+06</td> <td>-1.56e-07</td> <td> 1.000</td> <td>-1.15e+07</td> <td> 1.15e+07</td>\n",
       "</tr>\n",
       "<tr>\n",
       "  <th>state_18</th>                   <td>   -0.3416</td> <td> 5.88e+06</td> <td>-5.81e-08</td> <td> 1.000</td> <td>-1.15e+07</td> <td> 1.15e+07</td>\n",
       "</tr>\n",
       "<tr>\n",
       "  <th>state_19</th>                   <td>   -0.0896</td> <td> 5.88e+06</td> <td>-1.52e-08</td> <td> 1.000</td> <td>-1.15e+07</td> <td> 1.15e+07</td>\n",
       "</tr>\n",
       "<tr>\n",
       "  <th>state_20</th>                   <td>    0.4992</td> <td> 5.88e+06</td> <td> 8.49e-08</td> <td> 1.000</td> <td>-1.15e+07</td> <td> 1.15e+07</td>\n",
       "</tr>\n",
       "<tr>\n",
       "  <th>state_21</th>                   <td>    0.1059</td> <td> 5.88e+06</td> <td>  1.8e-08</td> <td> 1.000</td> <td>-1.15e+07</td> <td> 1.15e+07</td>\n",
       "</tr>\n",
       "<tr>\n",
       "  <th>state_22</th>                   <td>    0.4774</td> <td> 5.88e+06</td> <td> 8.11e-08</td> <td> 1.000</td> <td>-1.15e+07</td> <td> 1.15e+07</td>\n",
       "</tr>\n",
       "<tr>\n",
       "  <th>state_23</th>                   <td>    0.1398</td> <td> 5.88e+06</td> <td> 2.38e-08</td> <td> 1.000</td> <td>-1.15e+07</td> <td> 1.15e+07</td>\n",
       "</tr>\n",
       "<tr>\n",
       "  <th>state_24</th>                   <td>   -0.8476</td> <td> 5.88e+06</td> <td>-1.44e-07</td> <td> 1.000</td> <td>-1.15e+07</td> <td> 1.15e+07</td>\n",
       "</tr>\n",
       "<tr>\n",
       "  <th>state_25</th>                   <td>   -0.1990</td> <td> 5.88e+06</td> <td>-3.38e-08</td> <td> 1.000</td> <td>-1.15e+07</td> <td> 1.15e+07</td>\n",
       "</tr>\n",
       "<tr>\n",
       "  <th>state_26</th>                   <td>    0.1789</td> <td> 5.88e+06</td> <td> 3.04e-08</td> <td> 1.000</td> <td>-1.15e+07</td> <td> 1.15e+07</td>\n",
       "</tr>\n",
       "<tr>\n",
       "  <th>state_27</th>                   <td>   -0.2228</td> <td> 5.88e+06</td> <td>-3.79e-08</td> <td> 1.000</td> <td>-1.15e+07</td> <td> 1.15e+07</td>\n",
       "</tr>\n",
       "<tr>\n",
       "  <th>state_28</th>                   <td>   -0.9877</td> <td> 5.88e+06</td> <td>-1.68e-07</td> <td> 1.000</td> <td>-1.15e+07</td> <td> 1.15e+07</td>\n",
       "</tr>\n",
       "<tr>\n",
       "  <th>state_29</th>                   <td>   -0.4100</td> <td> 5.88e+06</td> <td>-6.97e-08</td> <td> 1.000</td> <td>-1.15e+07</td> <td> 1.15e+07</td>\n",
       "</tr>\n",
       "<tr>\n",
       "  <th>state_30</th>                   <td>   -0.2410</td> <td> 5.88e+06</td> <td> -4.1e-08</td> <td> 1.000</td> <td>-1.15e+07</td> <td> 1.15e+07</td>\n",
       "</tr>\n",
       "<tr>\n",
       "  <th>state_31</th>                   <td>    0.6925</td> <td> 5.88e+06</td> <td> 1.18e-07</td> <td> 1.000</td> <td>-1.15e+07</td> <td> 1.15e+07</td>\n",
       "</tr>\n",
       "<tr>\n",
       "  <th>state_32</th>                   <td>   -1.2516</td> <td> 5.88e+06</td> <td>-2.13e-07</td> <td> 1.000</td> <td>-1.15e+07</td> <td> 1.15e+07</td>\n",
       "</tr>\n",
       "<tr>\n",
       "  <th>state_33</th>                   <td>   -0.4601</td> <td> 5.88e+06</td> <td>-7.82e-08</td> <td> 1.000</td> <td>-1.15e+07</td> <td> 1.15e+07</td>\n",
       "</tr>\n",
       "<tr>\n",
       "  <th>state_34</th>                   <td>   -0.4029</td> <td> 5.88e+06</td> <td>-6.85e-08</td> <td> 1.000</td> <td>-1.15e+07</td> <td> 1.15e+07</td>\n",
       "</tr>\n",
       "<tr>\n",
       "  <th>state_35</th>                   <td>   -0.0870</td> <td> 5.88e+06</td> <td>-1.48e-08</td> <td> 1.000</td> <td>-1.15e+07</td> <td> 1.15e+07</td>\n",
       "</tr>\n",
       "<tr>\n",
       "  <th>state_36</th>                   <td>    0.1192</td> <td> 5.88e+06</td> <td> 2.03e-08</td> <td> 1.000</td> <td>-1.15e+07</td> <td> 1.15e+07</td>\n",
       "</tr>\n",
       "<tr>\n",
       "  <th>state_37</th>                   <td>   -0.3298</td> <td> 5.88e+06</td> <td>-5.61e-08</td> <td> 1.000</td> <td>-1.15e+07</td> <td> 1.15e+07</td>\n",
       "</tr>\n",
       "<tr>\n",
       "  <th>state_38</th>                   <td>   -0.5394</td> <td> 5.88e+06</td> <td>-9.17e-08</td> <td> 1.000</td> <td>-1.15e+07</td> <td> 1.15e+07</td>\n",
       "</tr>\n",
       "<tr>\n",
       "  <th>state_39</th>                   <td>   -0.9952</td> <td> 5.88e+06</td> <td>-1.69e-07</td> <td> 1.000</td> <td>-1.15e+07</td> <td> 1.15e+07</td>\n",
       "</tr>\n",
       "<tr>\n",
       "  <th>state_40</th>                   <td>    0.5788</td> <td> 5.88e+06</td> <td> 9.84e-08</td> <td> 1.000</td> <td>-1.15e+07</td> <td> 1.15e+07</td>\n",
       "</tr>\n",
       "<tr>\n",
       "  <th>state_41</th>                   <td>   -0.7368</td> <td> 5.88e+06</td> <td>-1.25e-07</td> <td> 1.000</td> <td>-1.15e+07</td> <td> 1.15e+07</td>\n",
       "</tr>\n",
       "<tr>\n",
       "  <th>state_42</th>                   <td>   -1.4600</td> <td> 5.88e+06</td> <td>-2.48e-07</td> <td> 1.000</td> <td>-1.15e+07</td> <td> 1.15e+07</td>\n",
       "</tr>\n",
       "<tr>\n",
       "  <th>state_43</th>                   <td>    0.8077</td> <td> 5.88e+06</td> <td> 1.37e-07</td> <td> 1.000</td> <td>-1.15e+07</td> <td> 1.15e+07</td>\n",
       "</tr>\n",
       "<tr>\n",
       "  <th>state_44</th>                   <td>   -0.9397</td> <td> 5.88e+06</td> <td> -1.6e-07</td> <td> 1.000</td> <td>-1.15e+07</td> <td> 1.15e+07</td>\n",
       "</tr>\n",
       "<tr>\n",
       "  <th>state_45</th>                   <td>   -0.9927</td> <td> 5.88e+06</td> <td>-1.69e-07</td> <td> 1.000</td> <td>-1.15e+07</td> <td> 1.15e+07</td>\n",
       "</tr>\n",
       "<tr>\n",
       "  <th>state_46</th>                   <td>   -1.0834</td> <td> 5.88e+06</td> <td>-1.84e-07</td> <td> 1.000</td> <td>-1.15e+07</td> <td> 1.15e+07</td>\n",
       "</tr>\n",
       "<tr>\n",
       "  <th>state_47</th>                   <td>   -0.0325</td> <td> 5.88e+06</td> <td>-5.52e-09</td> <td> 1.000</td> <td>-1.15e+07</td> <td> 1.15e+07</td>\n",
       "</tr>\n",
       "<tr>\n",
       "  <th>state_48</th>                   <td>   -0.9944</td> <td> 5.88e+06</td> <td>-1.69e-07</td> <td> 1.000</td> <td>-1.15e+07</td> <td> 1.15e+07</td>\n",
       "</tr>\n",
       "<tr>\n",
       "  <th>state_49</th>                   <td>   -1.5054</td> <td> 5.88e+06</td> <td>-2.56e-07</td> <td> 1.000</td> <td>-1.15e+07</td> <td> 1.15e+07</td>\n",
       "</tr>\n",
       "<tr>\n",
       "  <th>state_50</th>                   <td>   -0.9288</td> <td> 5.88e+06</td> <td>-1.58e-07</td> <td> 1.000</td> <td>-1.15e+07</td> <td> 1.15e+07</td>\n",
       "</tr>\n",
       "<tr>\n",
       "  <th>voicemailplan_0</th>            <td>   -4.6770</td> <td> 5.03e+06</td> <td>-9.31e-07</td> <td> 1.000</td> <td>-9.85e+06</td> <td> 9.85e+06</td>\n",
       "</tr>\n",
       "<tr>\n",
       "  <th>voicemailplan_1</th>            <td>   -7.6071</td> <td> 5.03e+06</td> <td>-1.51e-06</td> <td> 1.000</td> <td>-9.85e+06</td> <td> 9.85e+06</td>\n",
       "</tr>\n",
       "<tr>\n",
       "  <th>internationalplan_0</th>        <td>   -7.6755</td> <td>      nan</td> <td>      nan</td> <td>   nan</td> <td>      nan</td> <td>      nan</td>\n",
       "</tr>\n",
       "<tr>\n",
       "  <th>internationalplan_1</th>        <td>   -5.1727</td> <td>      nan</td> <td>      nan</td> <td>   nan</td> <td>      nan</td> <td>      nan</td>\n",
       "</tr>\n",
       "</table>"
      ],
      "text/plain": [
       "<class 'statsmodels.iolib.summary.Summary'>\n",
       "\"\"\"\n",
       "                           Logit Regression Results                           \n",
       "==============================================================================\n",
       "Dep. Variable:                  Churn   No. Observations:                 2451\n",
       "Model:                          Logit   Df Residuals:                     2387\n",
       "Method:                           MLE   Df Model:                           63\n",
       "Date:                Mon, 18 Mar 2019   Pseudo R-squ.:                  0.3504\n",
       "Time:                        12:23:07   Log-Likelihood:                -577.56\n",
       "converged:                       True   LL-Null:                       -889.08\n",
       "                                        LLR p-value:                 4.342e-93\n",
       "==============================================================================================\n",
       "                                 coef    std err          z      P>|z|      [0.025      0.975]\n",
       "----------------------------------------------------------------------------------------------\n",
       "accountlength                  0.6899      0.475      1.453      0.146      -0.241       1.621\n",
       "numbervmailmessages            2.6887      1.324      2.030      0.042       0.093       5.284\n",
       "totaldayminutes                8.3634      0.598     13.990      0.000       7.192       9.535\n",
       "totaldaycalls                  0.6806      0.638      1.067      0.286      -0.569       1.931\n",
       "totaleveminutes                5.1086      0.602      8.487      0.000       3.929       6.288\n",
       "totalevecalls                 -0.1773      0.686     -0.259      0.796      -1.521       1.167\n",
       "totalnightminutes              2.5247      0.594      4.253      0.000       1.361       3.688\n",
       "totalnightcalls                0.1963      0.572      0.343      0.731      -0.924       1.317\n",
       "totalintlminutes               2.3937      0.586      4.083      0.000       1.245       3.543\n",
       "totalintlcalls                -1.5556      0.653     -2.383      0.017      -2.835      -0.276\n",
       "numbercustomerservicecalls    -0.1639      0.235     -0.697      0.486      -0.625       0.297\n",
       "state_0                       -1.9935   5.88e+06  -3.39e-07      1.000   -1.15e+07    1.15e+07\n",
       "state_1                       -1.3264   5.88e+06  -2.25e-07      1.000   -1.15e+07    1.15e+07\n",
       "state_2                       -1.0744   5.88e+06  -1.83e-07      1.000   -1.15e+07    1.15e+07\n",
       "state_3                       -1.0761   5.88e+06  -1.83e-07      1.000   -1.15e+07    1.15e+07\n",
       "state_4                        0.1097   5.88e+06   1.86e-08      1.000   -1.15e+07    1.15e+07\n",
       "state_5                       -0.2599   5.88e+06  -4.42e-08      1.000   -1.15e+07    1.15e+07\n",
       "state_6                       -0.2805   5.88e+06  -4.77e-08      1.000   -1.15e+07    1.15e+07\n",
       "state_7                       -0.2233   5.88e+06   -3.8e-08      1.000   -1.15e+07    1.15e+07\n",
       "state_8                       -0.9040   5.88e+06  -1.54e-07      1.000   -1.15e+07    1.15e+07\n",
       "state_9                       -0.4705   5.88e+06     -8e-08      1.000   -1.15e+07    1.15e+07\n",
       "state_10                      -0.5904   5.88e+06     -1e-07      1.000   -1.15e+07    1.15e+07\n",
       "state_11                      -1.6823   5.88e+06  -2.86e-07      1.000   -1.15e+07    1.15e+07\n",
       "state_12                      -1.1715   5.88e+06  -1.99e-07      1.000   -1.15e+07    1.15e+07\n",
       "state_13                      -0.4477   5.88e+06  -7.61e-08      1.000   -1.15e+07    1.15e+07\n",
       "state_14                      -1.5919   5.88e+06  -2.71e-07      1.000   -1.15e+07    1.15e+07\n",
       "state_15                      -1.0232   5.88e+06  -1.74e-07      1.000   -1.15e+07    1.15e+07\n",
       "state_16                       0.1699   5.88e+06   2.89e-08      1.000   -1.15e+07    1.15e+07\n",
       "state_17                      -0.9193   5.88e+06  -1.56e-07      1.000   -1.15e+07    1.15e+07\n",
       "state_18                      -0.3416   5.88e+06  -5.81e-08      1.000   -1.15e+07    1.15e+07\n",
       "state_19                      -0.0896   5.88e+06  -1.52e-08      1.000   -1.15e+07    1.15e+07\n",
       "state_20                       0.4992   5.88e+06   8.49e-08      1.000   -1.15e+07    1.15e+07\n",
       "state_21                       0.1059   5.88e+06    1.8e-08      1.000   -1.15e+07    1.15e+07\n",
       "state_22                       0.4774   5.88e+06   8.11e-08      1.000   -1.15e+07    1.15e+07\n",
       "state_23                       0.1398   5.88e+06   2.38e-08      1.000   -1.15e+07    1.15e+07\n",
       "state_24                      -0.8476   5.88e+06  -1.44e-07      1.000   -1.15e+07    1.15e+07\n",
       "state_25                      -0.1990   5.88e+06  -3.38e-08      1.000   -1.15e+07    1.15e+07\n",
       "state_26                       0.1789   5.88e+06   3.04e-08      1.000   -1.15e+07    1.15e+07\n",
       "state_27                      -0.2228   5.88e+06  -3.79e-08      1.000   -1.15e+07    1.15e+07\n",
       "state_28                      -0.9877   5.88e+06  -1.68e-07      1.000   -1.15e+07    1.15e+07\n",
       "state_29                      -0.4100   5.88e+06  -6.97e-08      1.000   -1.15e+07    1.15e+07\n",
       "state_30                      -0.2410   5.88e+06   -4.1e-08      1.000   -1.15e+07    1.15e+07\n",
       "state_31                       0.6925   5.88e+06   1.18e-07      1.000   -1.15e+07    1.15e+07\n",
       "state_32                      -1.2516   5.88e+06  -2.13e-07      1.000   -1.15e+07    1.15e+07\n",
       "state_33                      -0.4601   5.88e+06  -7.82e-08      1.000   -1.15e+07    1.15e+07\n",
       "state_34                      -0.4029   5.88e+06  -6.85e-08      1.000   -1.15e+07    1.15e+07\n",
       "state_35                      -0.0870   5.88e+06  -1.48e-08      1.000   -1.15e+07    1.15e+07\n",
       "state_36                       0.1192   5.88e+06   2.03e-08      1.000   -1.15e+07    1.15e+07\n",
       "state_37                      -0.3298   5.88e+06  -5.61e-08      1.000   -1.15e+07    1.15e+07\n",
       "state_38                      -0.5394   5.88e+06  -9.17e-08      1.000   -1.15e+07    1.15e+07\n",
       "state_39                      -0.9952   5.88e+06  -1.69e-07      1.000   -1.15e+07    1.15e+07\n",
       "state_40                       0.5788   5.88e+06   9.84e-08      1.000   -1.15e+07    1.15e+07\n",
       "state_41                      -0.7368   5.88e+06  -1.25e-07      1.000   -1.15e+07    1.15e+07\n",
       "state_42                      -1.4600   5.88e+06  -2.48e-07      1.000   -1.15e+07    1.15e+07\n",
       "state_43                       0.8077   5.88e+06   1.37e-07      1.000   -1.15e+07    1.15e+07\n",
       "state_44                      -0.9397   5.88e+06   -1.6e-07      1.000   -1.15e+07    1.15e+07\n",
       "state_45                      -0.9927   5.88e+06  -1.69e-07      1.000   -1.15e+07    1.15e+07\n",
       "state_46                      -1.0834   5.88e+06  -1.84e-07      1.000   -1.15e+07    1.15e+07\n",
       "state_47                      -0.0325   5.88e+06  -5.52e-09      1.000   -1.15e+07    1.15e+07\n",
       "state_48                      -0.9944   5.88e+06  -1.69e-07      1.000   -1.15e+07    1.15e+07\n",
       "state_49                      -1.5054   5.88e+06  -2.56e-07      1.000   -1.15e+07    1.15e+07\n",
       "state_50                      -0.9288   5.88e+06  -1.58e-07      1.000   -1.15e+07    1.15e+07\n",
       "voicemailplan_0               -4.6770   5.03e+06  -9.31e-07      1.000   -9.85e+06    9.85e+06\n",
       "voicemailplan_1               -7.6071   5.03e+06  -1.51e-06      1.000   -9.85e+06    9.85e+06\n",
       "internationalplan_0           -7.6755        nan        nan        nan         nan         nan\n",
       "internationalplan_1           -5.1727        nan        nan        nan         nan         nan\n",
       "==============================================================================================\n",
       "\"\"\""
      ]
     },
     "execution_count": 85,
     "metadata": {},
     "output_type": "execute_result"
    }
   ],
   "source": [
    "logit.summary()"
   ]
  },
  {
   "cell_type": "code",
   "execution_count": 86,
   "metadata": {
    "scrolled": true
   },
   "outputs": [
    {
     "name": "stderr",
     "output_type": "stream",
     "text": [
      "C:\\Users\\vrush_000\\Anaconda3\\lib\\site-packages\\ipykernel_launcher.py:2: SettingWithCopyWarning: \n",
      "A value is trying to be set on a copy of a slice from a DataFrame.\n",
      "Try using .loc[row_indexer,col_indexer] = value instead\n",
      "\n",
      "See the caveats in the documentation: http://pandas.pydata.org/pandas-docs/stable/indexing.html#indexing-view-versus-copy\n",
      "  \n",
      "C:\\Users\\vrush_000\\Anaconda3\\lib\\site-packages\\ipykernel_launcher.py:4: SettingWithCopyWarning: \n",
      "A value is trying to be set on a copy of a slice from a DataFrame.\n",
      "Try using .loc[row_indexer,col_indexer] = value instead\n",
      "\n",
      "See the caveats in the documentation: http://pandas.pydata.org/pandas-docs/stable/indexing.html#indexing-view-versus-copy\n",
      "  after removing the cwd from sys.path.\n",
      "C:\\Users\\vrush_000\\Anaconda3\\lib\\site-packages\\pandas\\core\\indexing.py:543: SettingWithCopyWarning: \n",
      "A value is trying to be set on a copy of a slice from a DataFrame.\n",
      "Try using .loc[row_indexer,col_indexer] = value instead\n",
      "\n",
      "See the caveats in the documentation: http://pandas.pydata.org/pandas-docs/stable/indexing.html#indexing-view-versus-copy\n",
      "  self.obj[item] = s\n"
     ]
    }
   ],
   "source": [
    "#Predict test data\n",
    "test['Actual_prob'] = logit.predict(test[train_cols])\n",
    "\n",
    "test['ActualVal'] = 1\n",
    "test.loc[test.Actual_prob < 0.5, 'ActualVal'] = 0"
   ]
  },
  {
   "cell_type": "code",
   "execution_count": 87,
   "metadata": {},
   "outputs": [],
   "source": [
    "#Build confusion matrix\n",
    "CM = pd.crosstab(test['Churn'], test['ActualVal'])\n",
    "\n",
    "#let us save TP, TN, FP, FN\n",
    "TN = CM.iloc[0,0]\n",
    "FN = CM.iloc[1,0]\n",
    "TP = CM.iloc[1,1]\n",
    "FP = CM.iloc[0,1]\n",
    "\n"
   ]
  },
  {
   "cell_type": "code",
   "execution_count": 88,
   "metadata": {},
   "outputs": [
    {
     "data": {
      "text/plain": [
       "92.6829268292683"
      ]
     },
     "execution_count": 88,
     "metadata": {},
     "output_type": "execute_result"
    }
   ],
   "source": [
    "#check accuracy of model\n",
    "((TP+TN)*100)/(TP+TN+FP+FN)\n",
    "#False Negative rate \n",
    "#(FN*100)/(FN+TP)\n",
    "#Sensitivity\n",
    "#(TP*100)/(TP+FN)\n",
    "#Specificity\n",
    "#(TN*100)/(TN+FP)"
   ]
  },
  {
   "cell_type": "code",
   "execution_count": 89,
   "metadata": {},
   "outputs": [],
   "source": [
    "##Result\n",
    "#Accuracy = 91.14\n",
    "#FNR = 70.31\n",
    "#Sensiivity = 29.68\n",
    "#Specificity = 98.19"
   ]
  },
  {
   "cell_type": "markdown",
   "metadata": {},
   "source": [
    "## KNN Classifier"
   ]
  },
  {
   "cell_type": "code",
   "execution_count": 90,
   "metadata": {},
   "outputs": [],
   "source": [
    "#KNN implementation\n",
    "from sklearn.neighbors import KNeighborsClassifier\n",
    "\n",
    "KNN_model = KNeighborsClassifier(n_neighbors = 3).fit(X_train, y_train)"
   ]
  },
  {
   "cell_type": "code",
   "execution_count": 91,
   "metadata": {},
   "outputs": [],
   "source": [
    "#predict test cases\n",
    "KNN_Predictions = KNN_model.predict(X_test)"
   ]
  },
  {
   "cell_type": "code",
   "execution_count": 92,
   "metadata": {},
   "outputs": [],
   "source": [
    "#build confusion matrix\n",
    "CM = pd.crosstab(y_test, KNN_Predictions)\n",
    "\n",
    "#let us save TP, TN, FP, FN\n",
    "TN = CM.iloc[0,0]\n",
    "FN = CM.iloc[1,0]\n",
    "TP = CM.iloc[1,1]\n",
    "FP = CM.iloc[0,1]\n"
   ]
  },
  {
   "cell_type": "code",
   "execution_count": 93,
   "metadata": {},
   "outputs": [
    {
     "data": {
      "text/plain": [
       "12.67605633802817"
      ]
     },
     "execution_count": 93,
     "metadata": {},
     "output_type": "execute_result"
    }
   ],
   "source": [
    "#check accuracy of model\n",
    "#((TP+TN)*100)/(TP+TN+FP+FN)\n",
    "#False Negative rate \n",
    "#(FN*100)/(FN+TP)\n",
    "#Sensitivity\n",
    "(TP*100)/(TP+FN)\n",
    "#Specificity\n",
    "#(TN*100)/(TN+FP)"
   ]
  },
  {
   "cell_type": "code",
   "execution_count": 94,
   "metadata": {},
   "outputs": [],
   "source": [
    "##Result\n",
    "#Accuracy = 88.27\n",
    "#FNR = 92.06\n",
    "#Sensiivity = 7.93\n",
    "#Specificity = 97.45"
   ]
  },
  {
   "cell_type": "markdown",
   "metadata": {},
   "source": [
    "## Naive Bayes"
   ]
  },
  {
   "cell_type": "code",
   "execution_count": 95,
   "metadata": {},
   "outputs": [],
   "source": [
    "#Naive Bayes\n",
    "from sklearn.naive_bayes import GaussianNB\n",
    "\n",
    "#Naive Bayes implementation\n",
    "NB_model = GaussianNB().fit(X_train, y_train)"
   ]
  },
  {
   "cell_type": "code",
   "execution_count": 96,
   "metadata": {},
   "outputs": [],
   "source": [
    "#predict test cases\n",
    "NB_Predictions = NB_model.predict(X_test)"
   ]
  },
  {
   "cell_type": "code",
   "execution_count": 97,
   "metadata": {},
   "outputs": [],
   "source": [
    "#Build confusion matrix\n",
    "CM = pd.crosstab(y_test, NB_Predictions)\n",
    "\n",
    "#let us save TP, TN, FP, FN\n",
    "TN = CM.iloc[0,0]\n",
    "FN = CM.iloc[1,0]\n",
    "TP = CM.iloc[1,1]\n",
    "FP = CM.iloc[0,1]"
   ]
  },
  {
   "cell_type": "code",
   "execution_count": 98,
   "metadata": {},
   "outputs": [
    {
     "data": {
      "text/plain": [
       "89.08794788273616"
      ]
     },
     "execution_count": 98,
     "metadata": {},
     "output_type": "execute_result"
    }
   ],
   "source": [
    "#check accuracy of model\n",
    "((TP+TN)*100)/(TP+TN+FP+FN)\n",
    "#False Negative rate \n",
    "#(FN*100)/(FN+TP)\n",
    "#Sensitivity\n",
    "#(TP*100)/(TP+FN)\n",
    "#Specificity\n",
    "#(TN*100)/(TN+FP)"
   ]
  },
  {
   "cell_type": "code",
   "execution_count": 99,
   "metadata": {},
   "outputs": [],
   "source": [
    "##Result\n",
    "#Accuracy = 88.76\n",
    "#FNR = 63.49\n",
    "#Sensiivity = 36.50\n",
    "#Specificity = 94.73"
   ]
  },
  {
   "cell_type": "markdown",
   "metadata": {},
   "source": [
    "### As the decision tree gives higher value of accuracy, sensitivity and specificity and low value of FNR, we are selecting decision tree as our final model to predict for test cases."
   ]
  },
  {
   "cell_type": "markdown",
   "metadata": {},
   "source": [
    "## Prediction on test data"
   ]
  },
  {
   "cell_type": "code",
   "execution_count": 101,
   "metadata": {},
   "outputs": [],
   "source": [
    "#Divide data into train and test\n",
    "X_train = churn_train.drop(\"Churn\",axis=1)\n",
    "y_train = churn_train[\"Churn\"]\n",
    "X_test = churn_test.drop(\"Churn\",axis=1)\n"
   ]
  },
  {
   "cell_type": "markdown",
   "metadata": {},
   "source": [
    "## Decision tree"
   ]
  },
  {
   "cell_type": "code",
   "execution_count": 102,
   "metadata": {},
   "outputs": [],
   "source": [
    "#Decision Tree\n",
    "C50_model = tree.DecisionTreeClassifier(criterion='entropy').fit(X_train, y_train)"
   ]
  },
  {
   "cell_type": "code",
   "execution_count": 103,
   "metadata": {},
   "outputs": [],
   "source": [
    "#predict new test cases\n",
    "C50_predictions = C50_model.predict(X_test)"
   ]
  },
  {
   "cell_type": "code",
   "execution_count": 104,
   "metadata": {},
   "outputs": [
    {
     "data": {
      "text/plain": [
       "array([0, 0, 0, ..., 0, 0, 0], dtype=int64)"
      ]
     },
     "execution_count": 104,
     "metadata": {},
     "output_type": "execute_result"
    }
   ],
   "source": [
    "C50_predictions"
   ]
  },
  {
   "cell_type": "markdown",
   "metadata": {},
   "source": [
    "## Preparing submission file"
   ]
  },
  {
   "cell_type": "code",
   "execution_count": 106,
   "metadata": {},
   "outputs": [],
   "source": [
    "output = churn_test[\"state\"]"
   ]
  },
  {
   "cell_type": "code",
   "execution_count": 107,
   "metadata": {},
   "outputs": [],
   "source": [
    "output = pd.DataFrame(output)"
   ]
  },
  {
   "cell_type": "code",
   "execution_count": 108,
   "metadata": {},
   "outputs": [],
   "source": [
    "output[\"Churn\"] = C50_predictions"
   ]
  },
  {
   "cell_type": "code",
   "execution_count": 109,
   "metadata": {},
   "outputs": [
    {
     "data": {
      "text/html": [
       "<div>\n",
       "<style scoped>\n",
       "    .dataframe tbody tr th:only-of-type {\n",
       "        vertical-align: middle;\n",
       "    }\n",
       "\n",
       "    .dataframe tbody tr th {\n",
       "        vertical-align: top;\n",
       "    }\n",
       "\n",
       "    .dataframe thead th {\n",
       "        text-align: right;\n",
       "    }\n",
       "</style>\n",
       "<table border=\"1\" class=\"dataframe\">\n",
       "  <thead>\n",
       "    <tr style=\"text-align: right;\">\n",
       "      <th></th>\n",
       "      <th>state</th>\n",
       "      <th>Churn</th>\n",
       "    </tr>\n",
       "  </thead>\n",
       "  <tbody>\n",
       "    <tr>\n",
       "      <th>0</th>\n",
       "      <td>11</td>\n",
       "      <td>0</td>\n",
       "    </tr>\n",
       "    <tr>\n",
       "      <th>1</th>\n",
       "      <td>26</td>\n",
       "      <td>0</td>\n",
       "    </tr>\n",
       "    <tr>\n",
       "      <th>2</th>\n",
       "      <td>35</td>\n",
       "      <td>0</td>\n",
       "    </tr>\n",
       "    <tr>\n",
       "      <th>3</th>\n",
       "      <td>32</td>\n",
       "      <td>0</td>\n",
       "    </tr>\n",
       "    <tr>\n",
       "      <th>4</th>\n",
       "      <td>40</td>\n",
       "      <td>0</td>\n",
       "    </tr>\n",
       "  </tbody>\n",
       "</table>\n",
       "</div>"
      ],
      "text/plain": [
       "  state  Churn\n",
       "0    11      0\n",
       "1    26      0\n",
       "2    35      0\n",
       "3    32      0\n",
       "4    40      0"
      ]
     },
     "execution_count": 109,
     "metadata": {},
     "output_type": "execute_result"
    }
   ],
   "source": [
    "output.head()"
   ]
  },
  {
   "cell_type": "code",
   "execution_count": 110,
   "metadata": {},
   "outputs": [],
   "source": [
    "output[\"Churn\"] = output[\"Churn\"].replace(0,\"No\")\n",
    "output[\"Churn\"] = output[\"Churn\"].replace(1,\"Yes\")"
   ]
  },
  {
   "cell_type": "code",
   "execution_count": 111,
   "metadata": {},
   "outputs": [
    {
     "data": {
      "text/html": [
       "<div>\n",
       "<style scoped>\n",
       "    .dataframe tbody tr th:only-of-type {\n",
       "        vertical-align: middle;\n",
       "    }\n",
       "\n",
       "    .dataframe tbody tr th {\n",
       "        vertical-align: top;\n",
       "    }\n",
       "\n",
       "    .dataframe thead th {\n",
       "        text-align: right;\n",
       "    }\n",
       "</style>\n",
       "<table border=\"1\" class=\"dataframe\">\n",
       "  <thead>\n",
       "    <tr style=\"text-align: right;\">\n",
       "      <th></th>\n",
       "      <th>state</th>\n",
       "      <th>Churn</th>\n",
       "    </tr>\n",
       "  </thead>\n",
       "  <tbody>\n",
       "    <tr>\n",
       "      <th>0</th>\n",
       "      <td>11</td>\n",
       "      <td>No</td>\n",
       "    </tr>\n",
       "    <tr>\n",
       "      <th>1</th>\n",
       "      <td>26</td>\n",
       "      <td>No</td>\n",
       "    </tr>\n",
       "    <tr>\n",
       "      <th>2</th>\n",
       "      <td>35</td>\n",
       "      <td>No</td>\n",
       "    </tr>\n",
       "    <tr>\n",
       "      <th>3</th>\n",
       "      <td>32</td>\n",
       "      <td>No</td>\n",
       "    </tr>\n",
       "    <tr>\n",
       "      <th>4</th>\n",
       "      <td>40</td>\n",
       "      <td>No</td>\n",
       "    </tr>\n",
       "  </tbody>\n",
       "</table>\n",
       "</div>"
      ],
      "text/plain": [
       "  state Churn\n",
       "0    11    No\n",
       "1    26    No\n",
       "2    35    No\n",
       "3    32    No\n",
       "4    40    No"
      ]
     },
     "execution_count": 111,
     "metadata": {},
     "output_type": "execute_result"
    }
   ],
   "source": [
    "output.head()"
   ]
  },
  {
   "cell_type": "code",
   "execution_count": 112,
   "metadata": {},
   "outputs": [],
   "source": [
    "#save prediction into the sytem\n",
    "output.to_csv(\"Python_Prediction_test_data.csv\",index = False)"
   ]
  },
  {
   "cell_type": "code",
   "execution_count": null,
   "metadata": {},
   "outputs": [],
   "source": []
  },
  {
   "cell_type": "code",
   "execution_count": null,
   "metadata": {},
   "outputs": [],
   "source": []
  }
 ],
 "metadata": {
  "anaconda-cloud": {},
  "kernelspec": {
   "display_name": "Python 3",
   "language": "python",
   "name": "python3"
  },
  "language_info": {
   "codemirror_mode": {
    "name": "ipython",
    "version": 3
   },
   "file_extension": ".py",
   "mimetype": "text/x-python",
   "name": "python",
   "nbconvert_exporter": "python",
   "pygments_lexer": "ipython3",
   "version": "3.6.5"
  }
 },
 "nbformat": 4,
 "nbformat_minor": 1
}
